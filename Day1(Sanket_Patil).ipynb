{
  "nbformat": 4,
  "nbformat_minor": 0,
  "metadata": {
    "colab": {
      "provenance": [],
      "authorship_tag": "ABX9TyPtIQPyOnD0lcG+OZV1gSZM"
    },
    "kernelspec": {
      "name": "python3",
      "display_name": "Python 3"
    },
    "language_info": {
      "name": "python"
    }
  },
  "cells": [
    {
      "cell_type": "code",
      "execution_count": null,
      "metadata": {
        "colab": {
          "base_uri": "https://localhost:8080/"
        },
        "id": "IJxBMh5RXDmw",
        "outputId": "77ef8276-d1f0-4951-98f3-69f90a5d4c36"
      },
      "outputs": [
        {
          "output_type": "stream",
          "name": "stdout",
          "text": [
            "50\n"
          ]
        }
      ],
      "source": [
        "a=10\n",
        "b=40\n",
        "add = a+b\n",
        "print(add)"
      ]
    },
    {
      "cell_type": "code",
      "source": [
        "list1=[\"ashish\",\"rahul\",\"sandip\",\"prashant\"]\n",
        "print(\"ashish\" in list1)\n",
        "print(\"sonu\" in list1)\n",
        "print(\"sonu\" not in list1)"
      ],
      "metadata": {
        "colab": {
          "base_uri": "https://localhost:8080/"
        },
        "id": "NVLiUu05Xqhm",
        "outputId": "36b5a041-4821-43c5-e082-450822a1a38b"
      },
      "execution_count": null,
      "outputs": [
        {
          "output_type": "stream",
          "name": "stdout",
          "text": [
            "True\n",
            "False\n",
            "True\n"
          ]
        }
      ]
    },
    {
      "cell_type": "code",
      "source": [
        "print(int(3.5))\n",
        "print(int(3))\n",
        "# print(int(6+2j))\n",
        "print(float(3.5))\n",
        "print(float(3))"
      ],
      "metadata": {
        "colab": {
          "base_uri": "https://localhost:8080/"
        },
        "id": "ucvErM_1YIQ0",
        "outputId": "83668531-b920-416c-ede9-176f3c6b36c2"
      },
      "execution_count": null,
      "outputs": [
        {
          "output_type": "stream",
          "name": "stdout",
          "text": [
            "3\n",
            "3\n",
            "3.5\n",
            "3.0\n"
          ]
        }
      ]
    },
    {
      "cell_type": "code",
      "source": [
        "a=2\n",
        "b=5\n",
        "res = complex(a,b)\n",
        "print(res)\n",
        "print(complex(3))"
      ],
      "metadata": {
        "colab": {
          "base_uri": "https://localhost:8080/"
        },
        "id": "LGfXPtxfYnSH",
        "outputId": "09a45c1d-3dc2-4a5b-ff91-63de7a87a40f"
      },
      "execution_count": null,
      "outputs": [
        {
          "output_type": "stream",
          "name": "stdout",
          "text": [
            "(2+5j)\n",
            "(3+0j)\n"
          ]
        }
      ]
    },
    {
      "cell_type": "code",
      "source": [
        "a=10\n",
        "b=2\n",
        "print(\"a+b\", a+b)\n",
        "print(\"a-b\", a-b)\n",
        "print(\"a*b\", a*b)\n",
        "print(\"a/b\", a/b)\n",
        "print(\"a//b\", a//b)\n",
        "print(\"a**b\", a**b)\n",
        "print(\"a%b\", a%b)\n"
      ],
      "metadata": {
        "colab": {
          "base_uri": "https://localhost:8080/"
        },
        "id": "IigPwGuGYxKD",
        "outputId": "cd4c0222-dbd5-41e2-b88b-109d850ac69e"
      },
      "execution_count": null,
      "outputs": [
        {
          "output_type": "stream",
          "name": "stdout",
          "text": [
            "a+b 12\n",
            "a-b 8\n",
            "a*b 20\n",
            "a/b 5.0\n",
            "a//b 5\n",
            "a**b 100\n",
            "a%b 0\n"
          ]
        }
      ]
    },
    {
      "cell_type": "code",
      "source": [
        "import math as m\n",
        "r=5\n",
        "area = m.pi*(r**2)\n",
        "print(\"Area of circle is \", area)"
      ],
      "metadata": {
        "colab": {
          "base_uri": "https://localhost:8080/"
        },
        "id": "YMpOKWDGZsLe",
        "outputId": "5a7a0430-9e23-443c-ce22-710505b15719"
      },
      "execution_count": null,
      "outputs": [
        {
          "output_type": "stream",
          "name": "stdout",
          "text": [
            "Area of circle is  78.53981633974483\n"
          ]
        }
      ]
    },
    {
      "cell_type": "code",
      "source": [],
      "metadata": {
        "id": "ehwM2rT-glsF"
      },
      "execution_count": null,
      "outputs": []
    },
    {
      "cell_type": "code",
      "source": [
        "a=int(input('Enter a value: '))\n",
        "b=int(input('Enter b value: '))\n",
        "res = a+b\n",
        "print(\"Addition is \", res)"
      ],
      "metadata": {
        "colab": {
          "base_uri": "https://localhost:8080/"
        },
        "id": "6obr0X8aa7dy",
        "outputId": "dfc9ba0d-66cf-4ea5-8058-c9fd5156fbc3"
      },
      "execution_count": null,
      "outputs": [
        {
          "output_type": "stream",
          "name": "stdout",
          "text": [
            "Enter a value: 10\n",
            "Enter b value: 40\n",
            "Addition is  50\n"
          ]
        }
      ]
    },
    {
      "cell_type": "code",
      "source": [
        "print(\"Addition is \", int(input('Enter a value: '))+int(input('Enter b value: ')))"
      ],
      "metadata": {
        "colab": {
          "base_uri": "https://localhost:8080/"
        },
        "id": "kGiisnKebpQx",
        "outputId": "5fd6d0d2-1c5d-4172-c38f-2779c4917a79"
      },
      "execution_count": null,
      "outputs": [
        {
          "output_type": "stream",
          "name": "stdout",
          "text": [
            "Enter a value: 10\n",
            "Enter b value: 20\n",
            "Addition is  30\n"
          ]
        }
      ]
    },
    {
      "cell_type": "code",
      "source": [
        "a=eval((input(\"Enter any\")))\n",
        "print(a)"
      ],
      "metadata": {
        "colab": {
          "base_uri": "https://localhost:8080/"
        },
        "id": "gBFcz_Fzckmx",
        "outputId": "a1a4449a-d8ea-49ca-d0ea-90402630b28f"
      },
      "execution_count": null,
      "outputs": [
        {
          "output_type": "stream",
          "name": "stdout",
          "text": [
            "Enter any[2+20]\n",
            "[22]\n"
          ]
        }
      ]
    },
    {
      "cell_type": "code",
      "source": [
        "print(\"Hello \\n World\")\n",
        "print(\"Hello \\t World\")\n",
        "print(\"Hello\"+\"World\")\n",
        "print(\"Hello\"*3)"
      ],
      "metadata": {
        "colab": {
          "base_uri": "https://localhost:8080/"
        },
        "id": "0OjvgIyndKFh",
        "outputId": "2580dee9-8eef-4658-f90c-bf7544065212"
      },
      "execution_count": null,
      "outputs": [
        {
          "output_type": "stream",
          "name": "stdout",
          "text": [
            "Hello \n",
            " World\n",
            "Hello \t World\n",
            "HelloWorld\n",
            "HelloHelloHello\n"
          ]
        }
      ]
    },
    {
      "cell_type": "code",
      "source": [
        "a=10\n",
        "b=20\n",
        "c=30\n",
        "print(a,b,c)\n",
        "a,b,c = 10,20,30\n",
        "print(a,b,c, sep=\": \")\n",
        "a=b=c=10\n",
        "print(a,b,c)\n",
        "a,b,c = 10,20,30\n",
        "print(a,b,c)"
      ],
      "metadata": {
        "colab": {
          "base_uri": "https://localhost:8080/"
        },
        "id": "P5MkDIz7d8wO",
        "outputId": "c7d2ca5a-0626-4912-e4d2-14124b518f23"
      },
      "execution_count": null,
      "outputs": [
        {
          "output_type": "stream",
          "name": "stdout",
          "text": [
            "10 20 30\n",
            "10: 20: 30\n",
            "10 10 10\n",
            "10 20 30\n"
          ]
        }
      ]
    },
    {
      "cell_type": "code",
      "source": [
        "print(\"Hello\", end=\" \")\n",
        "print(\"Sanket!\", end=\" \")\n",
        "print(\"How are you? \")"
      ],
      "metadata": {
        "colab": {
          "base_uri": "https://localhost:8080/"
        },
        "id": "zGbFv5UEethM",
        "outputId": "e257ff8f-18b8-4e20-8465-575bb2a73c1c"
      },
      "execution_count": null,
      "outputs": [
        {
          "output_type": "stream",
          "name": "stdout",
          "text": [
            "Hello Sanket! How are you? \n"
          ]
        }
      ]
    },
    {
      "cell_type": "code",
      "source": [
        "a=10\n",
        "b=20\n",
        "c=30\n",
        "print(\"a value is %i\" %a)\n",
        "print(\"b value is %d and c value is %d\" %(b,c))"
      ],
      "metadata": {
        "colab": {
          "base_uri": "https://localhost:8080/"
        },
        "id": "zAaPSEMIfQN4",
        "outputId": "69f0a549-9f84-4201-a5d4-8595d6e89ca5"
      },
      "execution_count": null,
      "outputs": [
        {
          "output_type": "stream",
          "name": "stdout",
          "text": [
            "a value is 10\n",
            "b value is 20 and c value is 30\n"
          ]
        }
      ]
    },
    {
      "cell_type": "code",
      "source": [
        "name =\"Sanket\"\n",
        "salary= 100000\n",
        "company= \"Goldman Sachs\"\n",
        "print(\"%s is working in %s with salary %d\" %(name, company, salary))\n",
        "print(\"Hello {0} your salary is {1} and company {2}\". format(name, salary, company))\n",
        "print(\"Hello {x} your salary is {y} and company {z}\". format(x=name, y=salary, z=company))"
      ],
      "metadata": {
        "colab": {
          "base_uri": "https://localhost:8080/"
        },
        "id": "PwuwqGXdfQ4M",
        "outputId": "6a18eb67-a539-4013-c840-b9bca0015c59"
      },
      "execution_count": null,
      "outputs": [
        {
          "output_type": "stream",
          "name": "stdout",
          "text": [
            "Sanket is working in Goldman Sachs with salary 100000\n",
            "Hello Sanket your salary is 100000 and company Goldman Sachs\n",
            "Hello Sanket your salary is 100000 and company Goldman Sachs\n"
          ]
        }
      ]
    },
    {
      "cell_type": "code",
      "source": [
        "a=int(input('Enter a value: '))\n",
        "print(\"Last value is \",a%10)"
      ],
      "metadata": {
        "colab": {
          "base_uri": "https://localhost:8080/"
        },
        "id": "ZNXic0_pgh3x",
        "outputId": "7c85d30b-da77-427a-e60a-98f91bd5fa56"
      },
      "execution_count": null,
      "outputs": [
        {
          "output_type": "stream",
          "name": "stdout",
          "text": [
            "Enter a value: 20220\n",
            "Last value is  0\n"
          ]
        }
      ]
    },
    {
      "cell_type": "code",
      "source": [
        "#Find sum of 2 digit of number\n",
        "no=int(input(\"Enter no: \"))\n",
        "n1=no%10\n",
        "n2=no//10\n",
        "# print(\"sum of 2 digit is \",res)\n",
        "res=n1+n2\n",
        "print(\"sum of 2 digit is \",res)"
      ],
      "metadata": {
        "colab": {
          "base_uri": "https://localhost:8080/"
        },
        "id": "baL9ZXqVybhu",
        "outputId": "185cc987-5fac-41c2-ff2f-f860490f698d"
      },
      "execution_count": null,
      "outputs": [
        {
          "output_type": "stream",
          "name": "stdout",
          "text": [
            "Enter no: 56\n",
            "sum of 2 digit is  11\n"
          ]
        }
      ]
    },
    {
      "cell_type": "code",
      "source": [
        "#Find sum of 3 digit of number\n",
        "no=int(input(\"Enter no: \"))\n",
        "n1=no%10\n",
        "no=no//10\n",
        "n2=no%10\n",
        "n3=no//10\n",
        "res=n1+n2+n3\n",
        "print(\"sum of 3 digits is \",res)"
      ],
      "metadata": {
        "colab": {
          "base_uri": "https://localhost:8080/"
        },
        "id": "1WrVbKefzqb-",
        "outputId": "94c2b575-60c6-442e-d1ee-de4f11ef20f1"
      },
      "execution_count": null,
      "outputs": [
        {
          "output_type": "stream",
          "name": "stdout",
          "text": [
            "Enter no: 365\n",
            "sum of 3 digits is  14\n"
          ]
        }
      ]
    },
    {
      "cell_type": "code",
      "source": [],
      "metadata": {
        "id": "1eYDxM--0-OA"
      },
      "execution_count": null,
      "outputs": []
    },
    {
      "cell_type": "code",
      "source": [
        "#sum of 5 digits in a number\n",
        "no=int(input(\"Enter no: \"))\n",
        "n1=no%10\n",
        "no=no//10\n",
        "n2=no%10\n",
        "no=no//10\n",
        "n3=no%10\n",
        "no=no//10\n",
        "n4=no%10\n",
        "no=no//10\n",
        "n5=no%10\n",
        "res=n1+n2+n3+n4+n5\n",
        "print(\"sum of 5 digits is \",res)\n"
      ],
      "metadata": {
        "colab": {
          "base_uri": "https://localhost:8080/"
        },
        "id": "yXezPpPO00U5",
        "outputId": "ab72377f-e5c4-48a8-cdd0-f3ea6311f7e5"
      },
      "execution_count": null,
      "outputs": [
        {
          "output_type": "stream",
          "name": "stdout",
          "text": [
            "Enter no: 22222\n",
            "sum of 5 digits is  10\n"
          ]
        }
      ]
    },
    {
      "cell_type": "code",
      "source": [
        "n = int(input(\"Enter a number: \"))\n",
        "n1 = n % 10\n",
        "n = n // 10\n",
        "n2 = n % 10\n",
        "n = n // 10\n",
        "n3 = n % 10\n",
        "n = n // 10\n",
        "n4 = n % 10\n",
        "n = n // 10\n",
        "n5 = n % 10\n",
        "\n",
        "res = n1 * 10000 + n2 * 1000 + n3 * 100 + n4 * 10 + n5\n",
        "print(\"Reverse of the number is\", res)\n"
      ],
      "metadata": {
        "colab": {
          "base_uri": "https://localhost:8080/"
        },
        "id": "EjKZtEFr1qSU",
        "outputId": "5abc39b3-e339-4c4c-fc28-547267ddd450"
      },
      "execution_count": null,
      "outputs": [
        {
          "output_type": "stream",
          "name": "stdout",
          "text": [
            "Enter a number: 12345\n",
            "Reverse of the number is 54321\n"
          ]
        }
      ]
    },
    {
      "cell_type": "code",
      "source": [
        "#finding sum of 1st and last number of 9 digit number\n",
        "n = int(input(\"Enter a number: \"))\n",
        "n1 = n%10\n",
        "n = n//100000000\n",
        "n2 = n%10\n",
        "res = n1 + n2\n",
        "print(\"Sum of 1st and last number is\", res)"
      ],
      "metadata": {
        "colab": {
          "base_uri": "https://localhost:8080/"
        },
        "id": "dzQm_Kx11qt4",
        "outputId": "3529fe16-ef7a-4314-9b88-4c74ed6e764e"
      },
      "execution_count": null,
      "outputs": [
        {
          "output_type": "stream",
          "name": "stdout",
          "text": [
            "Enter a number: 123456789\n",
            "Sum of 1st and last number is 10\n"
          ]
        }
      ]
    },
    {
      "cell_type": "code",
      "source": [
        "s = \"Sanket\"\n",
        "print(s[-1])\n",
        "print(s[0])\n",
        "print(s[2:4])\n",
        "print(s[::-1])\n"
      ],
      "metadata": {
        "colab": {
          "base_uri": "https://localhost:8080/"
        },
        "id": "bKY8DMFo6Gyo",
        "outputId": "5471db41-90e3-4e33-b79f-280caeb10623"
      },
      "execution_count": null,
      "outputs": [
        {
          "output_type": "stream",
          "name": "stdout",
          "text": [
            "t\n",
            "S\n",
            "nk\n",
            "teknaS\n"
          ]
        }
      ]
    },
    {
      "cell_type": "code",
      "source": [
        "#if statement\n",
        "#Accept 5 numbers and find maximum\n",
        "a=int(input(\"Enter a: \"))\n",
        "b=int(input(\"Enter b: \"))\n",
        "c=int(input(\"Enter c: \"))\n",
        "d=int(input(\"Enter d: \"))\n",
        "e=int(input(\"Enter e: \"))\n",
        "max=a\n",
        "if b>max:\n",
        "    max=b\n",
        "if c>max:\n",
        "    max=c\n",
        "if d>max:\n",
        "    max=d\n",
        "if e>max:\n",
        "    max=e\n",
        "print(\"Maximum is \",max)"
      ],
      "metadata": {
        "colab": {
          "base_uri": "https://localhost:8080/"
        },
        "id": "U-yyd9ps8dQs",
        "outputId": "5794717a-eeca-4260-d3fe-416861c8c71d"
      },
      "execution_count": null,
      "outputs": [
        {
          "output_type": "stream",
          "name": "stdout",
          "text": [
            "Enter a: 6\n",
            "Enter b: 2\n",
            "Enter c: 9\n",
            "Enter d: 0\n",
            "Enter e: 1\n",
            "Maximum is  9\n"
          ]
        }
      ]
    },
    {
      "cell_type": "code",
      "source": [
        "m1 = int(input(\"Enter marks for subject 1: \"))\n",
        "m2 = int(input(\"Enter marks for subject 2: \"))\n",
        "m3 = int(input(\"Enter marks for subject 3: \"))\n",
        "gender = input(\"Enter gender (M/F): \")\n",
        "percentage = (m1+m2+m3)/3\n",
        "print(percentage)\n",
        "if gender == 'M':\n",
        "    if percentage >= 62:\n",
        "        print(\"Can Take Admission\")\n",
        "if gender == 'F':\n",
        "    if percentage >= 82:\n",
        "        print(\"Can Take Admission\")\n"
      ],
      "metadata": {
        "colab": {
          "base_uri": "https://localhost:8080/"
        },
        "id": "CP8R0SYt93wN",
        "outputId": "32a684bc-6dfe-4705-d47f-e2911c6dee7d"
      },
      "execution_count": null,
      "outputs": [
        {
          "output_type": "stream",
          "name": "stdout",
          "text": [
            "Enter marks for subject 1: 50\n",
            "Enter marks for subject 2: 20\n",
            "Enter marks for subject 3: 30\n",
            "Enter gender (M/F): F\n",
            "33.333333333333336\n"
          ]
        }
      ]
    },
    {
      "cell_type": "code",
      "source": [
        "#To find leap year\n",
        "year = int(input(\"Enter year: \"))\n",
        "if year%4 == 0:\n",
        "  if year%100 == 0:\n",
        "    if year%400 == 0:\n",
        "      print(\"Leap year\")\n",
        "    else:\n",
        "      print(\"Not a leap year\")\n",
        "  else:\n",
        "    print(\"Leap year\")\n",
        "else:\n",
        "  print(\"Not a leap year\")\n"
      ],
      "metadata": {
        "colab": {
          "base_uri": "https://localhost:8080/"
        },
        "id": "-y2CSFsz94Zj",
        "outputId": "ffedb308-0d84-4ce4-9995-a6b6ab5b09a2"
      },
      "execution_count": null,
      "outputs": [
        {
          "output_type": "stream",
          "name": "stdout",
          "text": [
            "Enter year: 2024\n",
            "Leap year\n"
          ]
        }
      ]
    },
    {
      "cell_type": "code",
      "source": [
        "cost = int(input(\"Enter cost: \"))\n",
        "student = input(\"Are you a student? (Y/N): \")\n",
        "if student == \"Y\" and cost > 500:\n",
        "  cost = cost - (cost*0.1)\n",
        "else:\n",
        "  student == \"Y\" and cost > 500:\n",
        "  cost = cost - (cost*0.05)\n",
        "print(\"Total cost is \", cost)\n",
        "else if student == \"N\" and cost > 500:\n",
        "  cost = cost - (cost*0.08)\n",
        "print(\"Total cost is \", cost)\n"
      ],
      "metadata": {
        "colab": {
          "base_uri": "https://localhost:8080/",
          "height": 106
        },
        "id": "ycFEySSiCnVD",
        "outputId": "62d8a559-8205-4e4a-f485-cf498ea232cf"
      },
      "execution_count": null,
      "outputs": [
        {
          "output_type": "error",
          "ename": "SyntaxError",
          "evalue": "expected ':' (<ipython-input-36-ca560951f3e1>, line 5)",
          "traceback": [
            "\u001b[0;36m  File \u001b[0;32m\"<ipython-input-36-ca560951f3e1>\"\u001b[0;36m, line \u001b[0;32m5\u001b[0m\n\u001b[0;31m    else if:\u001b[0m\n\u001b[0m         ^\u001b[0m\n\u001b[0;31mSyntaxError\u001b[0m\u001b[0;31m:\u001b[0m expected ':'\n"
          ]
        }
      ]
    },
    {
      "cell_type": "code",
      "source": [
        "no = input(\"Enter character: \")\n",
        "no = ord(no)\n",
        "if no >= 65 and no <= 90:\n",
        "  print(\"Upper case\")\n",
        "elif no >= 97 and no <= 122:\n",
        "  print(\"Lower case\")\n",
        "elif no >= 48 and no <= 57:\n",
        "  print(\"Number\")\n"
      ],
      "metadata": {
        "colab": {
          "base_uri": "https://localhost:8080/"
        },
        "id": "yVgKoBoQCnkn",
        "outputId": "34e5c2ad-9d64-4678-9ce0-d13319450fa5"
      },
      "execution_count": null,
      "outputs": [
        {
          "output_type": "stream",
          "name": "stdout",
          "text": [
            "Enter character: 6\n",
            "Number\n"
          ]
        }
      ]
    },
    {
      "cell_type": "code",
      "source": [
        "i=1\n",
        "sum =0\n",
        "while i<10:\n",
        "  if i%2 ==0:\n",
        "    sum = sum+i\n",
        "  i = i+1\n",
        "print(\"Sum of even numbers is \", sum)"
      ],
      "metadata": {
        "colab": {
          "base_uri": "https://localhost:8080/"
        },
        "id": "0D9O1_9OJMLO",
        "outputId": "49b399a8-a1c8-411c-9de8-eca26d24b6a0"
      },
      "execution_count": null,
      "outputs": [
        {
          "output_type": "stream",
          "name": "stdout",
          "text": [
            "Sum of even numbers is  20\n"
          ]
        }
      ]
    },
    {
      "cell_type": "code",
      "source": [
        "#reverse the number\n",
        "no=int(input(\"Enter any no: \"))\n",
        "rev=0\n",
        "while no>0:\n",
        "  rem = no%10\n",
        "  rev=rev*10+rem\n",
        "  no=no//10\n",
        "\n",
        "print(\"Reverse no is \",rev)"
      ],
      "metadata": {
        "colab": {
          "base_uri": "https://localhost:8080/"
        },
        "id": "BMW5vpB6JMX8",
        "outputId": "f54bf0d9-555b-4ca7-82e0-512c3452a754"
      },
      "execution_count": null,
      "outputs": [
        {
          "output_type": "stream",
          "name": "stdout",
          "text": [
            "Enter any no: 123\n",
            "Reverse no is  321\n"
          ]
        }
      ]
    },
    {
      "cell_type": "code",
      "source": [
        "#Count the digits\n",
        "no = int(input(\"Enter the number: \"))\n",
        "count = 0\n",
        "while no > 0:\n",
        "  count = count + 1\n",
        "  no = no // 10\n",
        "print(\"Count is \", count)"
      ],
      "metadata": {
        "colab": {
          "base_uri": "https://localhost:8080/"
        },
        "id": "QeW7uA9WJMj5",
        "outputId": "19cf5f9b-6664-426f-d09d-9ab7fba47cd1"
      },
      "execution_count": null,
      "outputs": [
        {
          "output_type": "stream",
          "name": "stdout",
          "text": [
            "Enter the number: 1235\n",
            "Count is  4\n"
          ]
        }
      ]
    },
    {
      "cell_type": "code",
      "source": [
        "#Armstrong Number\n",
        "no = int(input(\"Enter the number: \"))\n",
        "temp = no\n",
        "sum = 0\n",
        "while no > 0:\n",
        "  rem = no % 10\n",
        "  sum = sum + (rem ** 3)\n",
        "  no = no // 10\n",
        "if temp == sum:\n",
        "  print(\"Armstrong number\")\n",
        "else:\n",
        "  print(\"Not an armstrong number\")"
      ],
      "metadata": {
        "colab": {
          "base_uri": "https://localhost:8080/"
        },
        "id": "6p4wQAUDNqoi",
        "outputId": "43935d66-96d5-4813-eb4f-45991a2df666"
      },
      "execution_count": null,
      "outputs": [
        {
          "output_type": "stream",
          "name": "stdout",
          "text": [
            "Enter the number: 153\n",
            "Armstrong number\n"
          ]
        }
      ]
    },
    {
      "cell_type": "code",
      "source": [
        "#All Armstrong number till 1000\n",
        "for i in range(1,1000):\n",
        "  temp = i\n",
        "  sum = 0\n",
        "  while i > 0:\n",
        "    rem = i % 10\n",
        "    sum = sum + (rem ** 3)\n",
        "    i = i // 10\n",
        "  if temp == sum:\n",
        "    print(temp)\n"
      ],
      "metadata": {
        "colab": {
          "base_uri": "https://localhost:8080/"
        },
        "id": "1qufNhGmRRyE",
        "outputId": "4e4ce235-0fca-4d31-915e-147f5ab1742d"
      },
      "execution_count": null,
      "outputs": [
        {
          "output_type": "stream",
          "name": "stdout",
          "text": [
            "1\n",
            "153\n",
            "370\n",
            "371\n",
            "407\n"
          ]
        }
      ]
    },
    {
      "cell_type": "code",
      "source": [
        "#Peterson Number\n",
        "no = int(input(\"Enter the number: \"))\n",
        "temp = no\n",
        "sum = 0\n",
        "while no > 0:\n",
        "  rem = no % 10\n",
        "  fact = 1\n",
        "  for i in range(1,rem+1):\n",
        "    fact = fact * i\n",
        "  sum = sum + fact\n",
        "  no = no // 10\n",
        "if temp == sum:\n",
        "  print(\"Peterson number\")\n",
        "  # else:\n",
        "  #   print(\"Not a peterson number\")"
      ],
      "metadata": {
        "colab": {
          "base_uri": "https://localhost:8080/"
        },
        "id": "GdyEfeP-SKJ4",
        "outputId": "4fc95f8e-9b3d-4878-bc5e-bafcc3d1afc4"
      },
      "execution_count": null,
      "outputs": [
        {
          "output_type": "stream",
          "name": "stdout",
          "text": [
            "Enter the number: 145\n",
            "Peterson number\n"
          ]
        }
      ]
    },
    {
      "cell_type": "code",
      "source": [
        "\n"
      ],
      "metadata": {
        "id": "JiZ-USxpWSkT"
      },
      "execution_count": null,
      "outputs": []
    }
  ]
}