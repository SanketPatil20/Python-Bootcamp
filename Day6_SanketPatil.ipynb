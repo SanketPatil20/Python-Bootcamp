{
  "nbformat": 4,
  "nbformat_minor": 0,
  "metadata": {
    "colab": {
      "provenance": [],
      "authorship_tag": "ABX9TyPBZVlLU2ES5pR3LRs9/irL"
    },
    "kernelspec": {
      "name": "python3",
      "display_name": "Python 3"
    },
    "language_info": {
      "name": "python"
    }
  },
  "cells": [
    {
      "cell_type": "code",
      "source": [
        "#Power of 4\n",
        "n=int(input(\"Enter a number: \"))\n",
        "x=1\n",
        "while x<n:\n",
        "  x=x*4\n",
        "if x==n:\n",
        "  print(\"True\")\n",
        "else:\n",
        "  print(\"False\")"
      ],
      "metadata": {
        "colab": {
          "base_uri": "https://localhost:8080/"
        },
        "id": "Tr_jHF_zsvMT",
        "outputId": "ab8cb69c-f73c-4bd0-aa10-33a752bbaca2"
      },
      "execution_count": null,
      "outputs": [
        {
          "output_type": "stream",
          "name": "stdout",
          "text": [
            "Enter a number: 16\n",
            "True\n"
          ]
        }
      ]
    },
    {
      "cell_type": "code",
      "source": [
        "n = int(input(\"Enter the number of elements: \"))\n",
        "a=[]\n",
        "b=[]\n",
        "for i in range (0,n):\n",
        "  element = int(input(\"Enter in array A: \"))\n",
        "\n",
        "\n",
        "  a.append(element)\n",
        "print(a)\n",
        "for i in range (0,n):\n",
        "  element = int(input(\"Enter in array B: \"))\n",
        "  b.append(element)\n",
        "print(b)\n",
        "#sorting\n",
        "for i in range (0,n):\n",
        "  for j in range (0,n):\n",
        "    if a[i]<a[j]:\n",
        "      temp=a[i]\n",
        "      a[i]=a[j]\n",
        "      a[j]=temp\n",
        "print(a)\n",
        "for k in range (0,n):\n",
        "  for l in range (0,n):\n",
        "    if b[k]<b[l]:\n",
        "      temp=b[k]\n",
        "      b[k]=b[l]\n",
        "      b[l]=temp\n",
        "print(b)\n",
        "\n",
        "if a==b:\n",
        "  print(\"True\")\n",
        "else:\n",
        "  print(\"False\")"
      ],
      "metadata": {
        "colab": {
          "base_uri": "https://localhost:8080/"
        },
        "id": "Km8dmMe5svPb",
        "outputId": "1bdf0bdc-b878-4498-81cd-60739ef1b613"
      },
      "execution_count": null,
      "outputs": [
        {
          "output_type": "stream",
          "name": "stdout",
          "text": [
            "Enter the number of elements: 2\n",
            "Enter in array A: 3\n",
            "Enter in array A: 6\n",
            "[3, 6]\n",
            "Enter in array B: 6\n",
            "Enter in array B: 3\n",
            "[6, 3]\n",
            "[3, 6]\n",
            "[3, 6]\n",
            "True\n"
          ]
        }
      ]
    },
    {
      "cell_type": "code",
      "source": [
        "#Find majority element\n",
        "n = int(input(\"Enter the number of elements: \"))\n",
        "a=[]\n",
        "for i in range (0,n):\n",
        "  element = int(input(\"Enter in array A: \"))\n",
        "  a.append(element)\n",
        "print(a)\n",
        "for i in range (0,n):\n",
        "  count=1\n",
        "  for j in range (0,n):\n",
        "    if a[i]==a[j]:\n",
        "      count=count+1\n",
        "  if count>n/2:\n",
        "    print(a[i])\n",
        "print(\"Majority element is: \", a[i])\n"
      ],
      "metadata": {
        "colab": {
          "base_uri": "https://localhost:8080/"
        },
        "id": "4dVbwjrmsvSU",
        "outputId": "2d722e88-d4d9-4a97-ccc6-5a9c8cc07028"
      },
      "execution_count": null,
      "outputs": [
        {
          "output_type": "stream",
          "name": "stdout",
          "text": [
            "Enter the number of elements: 5\n",
            "Enter in array A: 2\n",
            "Enter in array A: 1\n",
            "Enter in array A: 0\n",
            "Enter in array A: 0\n",
            "Enter in array A: 0\n",
            "[2, 1, 0, 0, 0]\n",
            "0\n",
            "0\n",
            "0\n",
            "Majority element is:  0\n"
          ]
        }
      ]
    },
    {
      "cell_type": "code",
      "source": [
        "#Move 0 to the end\n",
        "n=[1,0,2,3,4,0,5,0,6]\n",
        "ans=[]\n",
        "ans0 =[]\n",
        "for i in range (0,len(n)):\n",
        "  if n[i]==0:\n",
        "    ans0.append(n[i])\n",
        "  else:\n",
        "    ans.append(n[i])\n",
        "print(ans+ans0)"
      ],
      "metadata": {
        "colab": {
          "base_uri": "https://localhost:8080/"
        },
        "id": "yQvkQJCzzPLd",
        "outputId": "d9f60b55-0b55-4ec8-91dc-63da76fc1bfe"
      },
      "execution_count": null,
      "outputs": [
        {
          "output_type": "stream",
          "name": "stdout",
          "text": [
            "[1, 2, 3, 4, 5, 6, 0, 0, 0]\n"
          ]
        }
      ]
    },
    {
      "cell_type": "code",
      "source": [
        "#Intersection of 3 arrays\n",
        "n = int(input(\"Enter the number of elements: \"))\n",
        "a=[]\n",
        "b=[]\n",
        "c=[]\n",
        "for i in range (0,n):\n",
        "  element = int(input(\"Enter in array A: \"))\n",
        "  a.append(element)\n",
        "for i in range (0,n):\n",
        "  element = int(input(\"Enter in array B: \"))\n",
        "  b.append(element)\n",
        "for i in range (0,n):\n",
        "  element = int(input(\"Enter in array C: \"))\n",
        "  c.append(element)\n",
        "for i in range (0,n):\n",
        "  for j in range (0,n):\n",
        "    for k in range (0,n):\n",
        "      if a[i]==b[j]==c[k]:\n",
        "        print(\"Common element is: \",a[i])"
      ],
      "metadata": {
        "colab": {
          "base_uri": "https://localhost:8080/"
        },
        "id": "2ux7cvIvzPNx",
        "outputId": "c886a8c0-f92d-48ec-f866-0d38a6f20c56"
      },
      "execution_count": null,
      "outputs": [
        {
          "output_type": "stream",
          "name": "stdout",
          "text": [
            "Enter the number of elements: 4\n",
            "Enter in array A: 1\n",
            "Enter in array A: 2\n",
            "Enter in array A: 3\n",
            "Enter in array A: 5\n",
            "Enter in array B: 2\n",
            "Enter in array B: 6\n",
            "Enter in array B: 0\n",
            "Enter in array B: 1\n",
            "Enter in array C: 8\n",
            "Enter in array C: 9\n",
            "Enter in array C: 6\n",
            "Enter in array C: 1\n",
            "Common element is:  1\n"
          ]
        }
      ]
    },
    {
      "cell_type": "code",
      "source": [
        "n = int(input(\"Enter the number of houses: \"))\n",
        "r= int(input(\"Enter number of rats: \"))\n",
        "unit = int(input(\"Enter unmber of units: \"))\n",
        "arr =[]\n",
        "sum =0\n",
        "food = unit*r\n",
        "for i in range (0,n):\n",
        "  element = int(input(\"Enter in array A: \"))\n",
        "  arr.append(element)\n",
        "for i in range (0,n):\n",
        "  sum+=arr[i]\n",
        "  if sum>=food:\n",
        "    print(i+1)\n",
        "    break"
      ],
      "metadata": {
        "colab": {
          "base_uri": "https://localhost:8080/"
        },
        "id": "jZcQ--dQzPRD",
        "outputId": "4d8f160c-9dc1-463a-cb5c-97c874b18763"
      },
      "execution_count": null,
      "outputs": [
        {
          "output_type": "stream",
          "name": "stdout",
          "text": [
            "Enter the number of houses: 8\n",
            "Enter number of rats: 7\n",
            "Enter unmber of units: 2\n",
            "Enter in array A: 2\n",
            "Enter in array A: 8\n",
            "Enter in array A: 3\n",
            "Enter in array A: 5\n",
            "Enter in array A: 7\n",
            "Enter in array A: 4\n",
            "Enter in array A: 1\n",
            "Enter in array A: 2\n",
            "4\n"
          ]
        }
      ]
    },
    {
      "cell_type": "code",
      "source": [
        "#Security Key 1\n",
        "n = int(input(\"Enter the number of elements: \"))\n",
        "a=[]\n",
        "sum = 0\n",
        "for i in range (0,n):\n",
        "  element = int(input(\"Enter in array A: \"))\n",
        "  a.append(element)\n",
        "for i in range (0,n-1):\n",
        "  n=abs(a[i]-a[i+1])\n",
        "  sum+=n\n",
        "print(sum)"
      ],
      "metadata": {
        "colab": {
          "base_uri": "https://localhost:8080/"
        },
        "id": "qtsNPEu8B0X0",
        "outputId": "087cf48d-a6fe-4457-94d6-306aec80e824"
      },
      "execution_count": null,
      "outputs": [
        {
          "output_type": "stream",
          "name": "stdout",
          "text": [
            "Enter the number of elements: 5\n",
            "Enter in array A: 10\n",
            "Enter in array A: 11\n",
            "Enter in array A: 7\n",
            "Enter in array A: 12\n",
            "Enter in array A: 14\n",
            "12\n"
          ]
        }
      ]
    },
    {
      "cell_type": "code",
      "source": [
        "#Security Key 2\n",
        "n = int(input(\"Enter the number of elements: \"))\n",
        "a=[]\n",
        "count = 0\n",
        "for i in range (0,n):\n",
        "  element = int(input(\"Enter in array A: \"))\n",
        "  a.append(element)\n",
        "for i in range(0,n):\n",
        "  for j in range(i+1,n):\n",
        "    if a[i]==a[j]:\n",
        "      count+=1\n",
        "      continue\n",
        "print(count)\n"
      ],
      "metadata": {
        "id": "GSSgQZmGB0ex",
        "colab": {
          "base_uri": "https://localhost:8080/"
        },
        "outputId": "e7362c0a-156d-4d08-9255-f25ab4473eae"
      },
      "execution_count": null,
      "outputs": [
        {
          "output_type": "stream",
          "name": "stdout",
          "text": [
            "Enter the number of elements: 6\n",
            "Enter in array A: 1\n",
            "Enter in array A: 0\n",
            "Enter in array A: 0\n",
            "Enter in array A: 2\n",
            "Enter in array A: 5\n",
            "Enter in array A: 0\n",
            "3\n"
          ]
        }
      ]
    },
    {
      "cell_type": "code",
      "source": [
        "#Second largest element in list\n",
        "n=int(input(\"Enter the number of elements: \"))\n",
        "a=[]\n",
        "for i in range (0,n):\n",
        "  element = int(input(\"Enter in array A: \"))\n",
        "  a.append(element)\n",
        "for i in range(0,n):\n",
        "  for j in range(i+1,n):\n",
        "    if a[i]>a[j]:\n",
        "      temp=a[i]\n",
        "      a[i]=a[j]\n",
        "      a[j]=temp\n",
        "print(a)\n",
        "print(a[-2])"
      ],
      "metadata": {
        "colab": {
          "base_uri": "https://localhost:8080/"
        },
        "id": "823TQfbiLC9a",
        "outputId": "692f1509-8083-4178-df0c-81183c5f1a47"
      },
      "execution_count": null,
      "outputs": [
        {
          "output_type": "stream",
          "name": "stdout",
          "text": [
            "Enter the number of elements: 5\n",
            "Enter in array A: 6\n",
            "Enter in array A: 9\n",
            "Enter in array A: 5\n",
            "Enter in array A: 3\n",
            "Enter in array A: 1\n",
            "[1, 3, 5, 6, 9]\n",
            "6\n"
          ]
        }
      ]
    },
    {
      "cell_type": "code",
      "source": [
        "#Third largest element in list\n",
        "n=int(input(\"Enter the number of elements: \"))\n",
        "a=[]\n",
        "for i in range (0,n):\n",
        "  element = int(input(\"Enter in array A: \"))\n",
        "  a.append(element)\n",
        "for i in range(0,n):\n",
        "  for j in range(0,n):\n",
        "    if a[i]<a[j]:\n",
        "      temp=a[i]\n",
        "      a[i]=a[j]\n",
        "      a[j]=temp\n",
        "print(a)\n",
        "print(a[-3])"
      ],
      "metadata": {
        "colab": {
          "base_uri": "https://localhost:8080/"
        },
        "id": "-Va6o4ndLC_d",
        "outputId": "f9ac8412-3ef3-45e3-b81c-9fca7bf35273"
      },
      "execution_count": null,
      "outputs": [
        {
          "output_type": "stream",
          "name": "stdout",
          "text": [
            "Enter the number of elements: 5\n",
            "Enter in array A: 6\n",
            "Enter in array A: 1\n",
            "Enter in array A: 2\n",
            "Enter in array A: 3\n",
            "Enter in array A: 78\n",
            "[1, 2, 3, 6, 78]\n",
            "3\n"
          ]
        }
      ]
    },
    {
      "cell_type": "code",
      "source": [
        "#Kth largest element in list\n",
        "n=int(input(\"Enter the number of elements: \"))\n",
        "a=[]\n",
        "for i in range (0,n):\n",
        "  element = int(input(\"Enter in array A: \"))\n",
        "  a.append(element)\n",
        "for i in range(0,n):\n",
        "  for j in range(0,n):\n",
        "    if a[i]<a[j]:\n",
        "      temp=a[i]\n",
        "      a[i]=a[j]\n",
        "      a[j]=temp\n",
        "k=int(input(\"Enter the value of k: \"))\n",
        "print(a)\n",
        "print(a[-k])\n"
      ],
      "metadata": {
        "id": "2DRUDJogLDDI",
        "colab": {
          "base_uri": "https://localhost:8080/"
        },
        "outputId": "986552ab-e0e7-4c23-81b5-9a3c8e0b5bd7"
      },
      "execution_count": null,
      "outputs": [
        {
          "output_type": "stream",
          "name": "stdout",
          "text": [
            "Enter the number of elements: 5\n",
            "Enter the value of k: 3\n",
            "Enter in array A: 2\n",
            "Enter in array A: 6\n",
            "Enter in array A: 89\n",
            "Enter in array A: 97\n",
            "Enter in array A: 100\n",
            "[2, 6, 89, 97, 100]\n",
            "89\n"
          ]
        }
      ]
    },
    {
      "cell_type": "code",
      "source": [
        "#Kth smallest element in list\n",
        "n=int(input(\"Enter the number of elements: \"))\n",
        "a=[]\n",
        "for i in range (0,n):\n",
        "  element = int(input(\"Enter in array A: \"))\n",
        "  a.append(element)\n",
        "for i in range(0,n):\n",
        "  for j in range(0,n):\n",
        "    if a[i]>a[j]:\n",
        "      temp=a[i]\n",
        "      a[i]=a[j]\n",
        "      a[j]=temp\n",
        "k=int(input(\"Enter the value of k: \"))\n",
        "print(a)\n",
        "print(a[k])\n"
      ],
      "metadata": {
        "id": "eM1xBC4K708L",
        "colab": {
          "base_uri": "https://localhost:8080/"
        },
        "outputId": "d4a80a58-1325-44a9-f99f-9b148e93bac6"
      },
      "execution_count": null,
      "outputs": [
        {
          "output_type": "stream",
          "name": "stdout",
          "text": [
            "Enter the number of elements: 5\n",
            "Enter in array A: 20\n",
            "Enter in array A: 32\n",
            "Enter in array A: 65\n",
            "Enter in array A: 89\n",
            "Enter in array A: 10\n",
            "Enter the value of k: 3\n",
            "[89, 65, 32, 20, 10]\n",
            "20\n"
          ]
        }
      ]
    },
    {
      "cell_type": "code",
      "source": [
        "from itertools import permutations\n",
        "def generate_permutations(n):\n",
        "  no_str=str(n)\n",
        "  perm=permutations(no_str)\n",
        "  perm_list=[''.join(p) for p in perm]\n",
        "  return perm_list\n",
        "\n",
        "n=int(input(\"enter value: \"))\n",
        "perm_list=generate_permutations(n)\n",
        "print(perm_list)\n",
        "n1=int(input(\"enter value: \"))\n",
        "print(n1)\n",
        "\n",
        "new_permList=sorted(perm_list)\n",
        "print(new_permList)\n",
        "for i in new_permList:\n",
        "  if int(i)>=n1:\n",
        "    print(i)\n",
        "    break"
      ],
      "metadata": {
        "colab": {
          "base_uri": "https://localhost:8080/"
        },
        "id": "XUKLq4FwjzuK",
        "outputId": "a5a2c495-d70a-42d2-c1a1-dc5ce203cfa1"
      },
      "execution_count": null,
      "outputs": [
        {
          "output_type": "stream",
          "name": "stdout",
          "text": [
            "enter value: 215\n",
            "['215', '251', '125', '152', '521', '512']\n",
            "enter value: 500\n",
            "500\n",
            "['125', '152', '215', '251', '512', '521']\n",
            "512\n"
          ]
        }
      ]
    }
  ]
}