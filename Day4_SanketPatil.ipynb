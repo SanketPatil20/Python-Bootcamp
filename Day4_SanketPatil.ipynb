{
  "nbformat": 4,
  "nbformat_minor": 0,
  "metadata": {
    "colab": {
      "provenance": [],
      "authorship_tag": "ABX9TyOkh2JLB093UJcFw9yI04P8"
    },
    "kernelspec": {
      "name": "python3",
      "display_name": "Python 3"
    },
    "language_info": {
      "name": "python"
    }
  },
  "cells": [
    {
      "cell_type": "code",
      "execution_count": null,
      "metadata": {
        "colab": {
          "base_uri": "https://localhost:8080/"
        },
        "id": "8LSoICqybjr5",
        "outputId": "48a977fe-6a18-4257-bfb8-0a346361d001"
      },
      "outputs": [
        {
          "output_type": "stream",
          "name": "stdout",
          "text": [
            "Write operation done successfully\n"
          ]
        }
      ],
      "source": [
        "f=open(\"myfile.txt\", 'w')\n",
        "f.write(\"Ashish\\n\")\n",
        "f.write(\"Amar\\n\")\n",
        "f.write(\"Akash\\n\")\n",
        "print(\"Write operation done successfully\")\n",
        "f.close()"
      ]
    },
    {
      "cell_type": "code",
      "source": [
        "f = open(\"myfiles.txt\", 'w')\n",
        "l = [\"Ashish\\n\", \"Amar\\n\", \"Akash\\n\"]\n",
        "f.writelines(l)\n",
        "print(\"Write operation done successfully\")\n",
        "f.close()"
      ],
      "metadata": {
        "colab": {
          "base_uri": "https://localhost:8080/"
        },
        "id": "QCmMgTUxmB2b",
        "outputId": "ab70b42d-524b-4693-a69e-a3158d956aef"
      },
      "execution_count": null,
      "outputs": [
        {
          "output_type": "stream",
          "name": "stdout",
          "text": [
            "Write operation done successfully\n"
          ]
        }
      ]
    },
    {
      "cell_type": "code",
      "source": [
        "f= open(\"myfile.txt\", 'r')\n",
        "data = f.read()\n",
        "print(data)\n",
        "f.close()"
      ],
      "metadata": {
        "colab": {
          "base_uri": "https://localhost:8080/"
        },
        "id": "NJEw52HPmB5J",
        "outputId": "cfcb3752-c109-4003-d46d-9636f766fea9"
      },
      "execution_count": null,
      "outputs": [
        {
          "output_type": "stream",
          "name": "stdout",
          "text": [
            "Ashish\n",
            "Amar\n",
            "Akash\n",
            "\n"
          ]
        }
      ]
    },
    {
      "cell_type": "code",
      "source": [
        "f= open(\"myfile.txt\", 'r')\n",
        "data = f.read(16)\n",
        "print(data)\n",
        "f.close()"
      ],
      "metadata": {
        "colab": {
          "base_uri": "https://localhost:8080/"
        },
        "id": "ZXZd_a-ZmB8Y",
        "outputId": "7fd4aa3a-b156-4b22-df4e-55209d3e357e"
      },
      "execution_count": null,
      "outputs": [
        {
          "output_type": "stream",
          "name": "stdout",
          "text": [
            "Ashish\n",
            "Amar\n",
            "Akas\n"
          ]
        }
      ]
    },
    {
      "cell_type": "code",
      "source": [
        "f= open(\"myfile.txt\",'r')\n",
        "l1 = f.readlines()\n",
        "for x in l1:\n",
        "    print(x, end=\"\")\n",
        "f.close()"
      ],
      "metadata": {
        "colab": {
          "base_uri": "https://localhost:8080/"
        },
        "id": "Akp4aCDLnWYj",
        "outputId": "086c8b51-9ce0-4e79-c8b7-791b9ed55de9"
      },
      "execution_count": null,
      "outputs": [
        {
          "output_type": "stream",
          "name": "stdout",
          "text": [
            "Ashish\n",
            "Amar\n",
            "Akash\n"
          ]
        }
      ]
    },
    {
      "cell_type": "code",
      "source": [
        "f1=open(\"lion.webp\",\"rb\")\n",
        "f2=open(\"newlion.jpg\", \"wb\")\n",
        "bytes=f1.read()\n",
        "f2.write(bytes)\n",
        "print(bytes)\n",
        "print(\"New image is available\")"
      ],
      "metadata": {
        "colab": {
          "base_uri": "https://localhost:8080/"
        },
        "id": "rJ1wLxGHnWa0",
        "outputId": "11e2952b-375a-4104-8361-0c4a3adb0a06"
      },
      "execution_count": null,
      "outputs": [
        {
          "output_type": "stream",
          "name": "stdout",
          "text": [
            "b'RIFFt\\x15\\x00\\x00WEBPVP8 h\\x15\\x00\\x000q\\x00\\x9d\\x01*\\x13\\x01\\xb7\\x00>\\x9dH\\x9eL\\xa5\\xa3\\xa2\\xb3$q\\x1a\\xc2`\\x13\\x89em\\xd9\\x80\\xc4\\xf5|t\\x02\\xf0#!\\xe1}\\x83*&[M\\x9e\\xff\\xff\\xa6\\xb0\\xd9\\xdb+\\xb7\\xd9\\xde\\x83\\xfb\\x98\\n\\xd1G\\x8f\\xf0\\xb7\\xfbz\\x97\\x88\\xf0\\xf0\\x06\\x8fF\\x8a\\x0c\\xac]_L\\xd3lw\\x18\\xf9\\xcfC\\xba\\xcb_\\xbb\\xe1\\x8f\\x8f\\x94\\xa2\\x101\\xfd7\\xd0\\x06\\xee\\x0c\\xd0*\\x89B\\x93k\\x8c\\x843p\\x14]\\x90\\x06\\xd5\\x14\\x1c\\xa0P\\x80\\xabs\\xa2s2\\xab\\xad%\\xe9\\xa58{w;h\\x02\\xd1,3\\x84I\\xe5\\xc4I\\xff\\xcbnN7_\\x0f=q\\xf9\\xa7K\\xbe\\xe7\\xd6/\\x02\\xb0X1i\\xcfg\\xae\\xa6\\xc4!\\xa6N\\x03\\x1f\\x8b\\x15n\\x7f\\xcd5\\x03\\x17\\x0fC\\x89\\x87#8\\x15_0x\\xab\\xb7\\xb3\\xb9\\xc0q<3E\\x1c\\x81.\\x16\\x8e\\rQ\\xf8\\x7f\\x85\\xba\\xd7\\xcer\\xed\\xdd2\\tn\\x11\\'\\x04\\xdf\\xf7\\xd5\\x10\\xea\\xf8Q\\xaam\\xbe.\\x00R\\xf2W\\xd7\\xbf\\xf0e\\x05RJa\\t\\xcb^\\x96\\x95\\x15\\xfe=\\xf0}\\xeb\\xb6\\x9d(\\xd4\\xc0>\\xc3\\xdcII\\x16ou\\xd7X\\x06\\xd3\\x8fh\\xda\\xc5\\x95U7\\nYp\\x0e-q\\x8aXr\\x82d\\xd1\\x16\\xc2\\x7f\\t#\\xee\\x1f\\'T\\x93!kf\\r\\xa7\\r\\xf7!\\xde\\x8a\\x19`\\xe9\\x07\\xd7A\\x12X\\tDS\\x94\\x9c\\xf1!\\x92\\\\}\\x15\\x89\\x1d\\xef\"G\\xf2!6o\\xaa~\\xb2\\xfa\\x92\\xdcI\\xa0\\xf2g\\x7f\\xc4H.:k\\x16\\xf4\\x8e\\xb2\\x19\\xc7\\xe9%\\xb0D\\xfa\\x9e<\\xf1C#\\xe8\\xb5\\x1c;o\\x02Ki\\xc9\\x83w\\xef\\xb4\\xa7\\xd9\\xae\\x101\\x1fj\\xfe9\\x11j\\xf9\\xacl+\\xf3\\xfe-G\\x06\\xa6p+\\xbdN#\\xca\\xf8^\\xf6c\\xc3\\xfb\\x83\\x9b\\x1e\\xc0\\xda\\x08\\xbe\\xdd\\x14\\x10\\xd2?\\xeb\\x10~\\xe9h ?/\\xd01\\xd3\\xb8W\\xa7\\x01\\xd8D\\x1e\\x1a\\xb0\\x0f\\xfe\\x91\\xbc\\xda\\xf9\\xb3x[~\\x9cs\\xc9\\xe5\\xc2/\\x82\\xcd\\x1a\\xe5\\xd2\\xe54\\xa3\\xd2\\xd0\\xd2\\x88x\\x06\\xab\\xd8\\xeb\\x80\\x1f\\x90{\\xfb\\xa7X\\'\\x13*\\x06\\xc1\\x1fZ\\xa3\\xcf\\x0b\\xcc@O\\x1c)\\xb8\\xddQ\\xb7\\x12<\\xb9\\x9aC\\xc3\\xfd\\xbf!\\x8f\\x9f\\xb9DK\\xbd\\xe0\\x19O\\xd9|\\x89\\xa41\\xc2\\xb2\\xd4>\\x1f\\xc2]\\xdeI\\x0bW\\xeey\\xbf\\xd3\\x8c>$\\x7fS\\x03\\rT\\xbc\\x02\\xa52*%h\\x08\\xda\\xde\\x89V\\xbe\\x97\\xc2\\xcf\\x1a\\xa7\\xd0\\x917xl\\xb8\\xd5\\xb1_\\x89\\x87aJ\\xf4\\x87\\x11\\xc9%\\\\\\x991>\\xa2\\xef\\x8c\\x7fb\\x96\\xab\\x11\\xee\\xb8\\x80:\\xc3\\x11`\\xban\\xd8\\xf6\\x84\\xc2\\x00\\xa5\\x7f\\xe1\\xe7\\x06W\\x92 \\x07z\\xc0\\xc7\\x9c\\xb5u\\xe4Y\\xb2\\xb9\\x02\\x04Mf\\xfe\\x81\\xcd&z\\\\Z4\\x90\\xf2\\xaf\\xe0^h\"\\xb394\\x08\\x18\\x03;\\xca\\x1b\\xd8Nc\\xbf\\xc3\\x9a\\x9bX\\xf2<\\xbbr\\x85\\xb9_7\\xd8\\xdcs\\xa5\\x9c\\x81\\x1c\\x82\\xbe\\xa3\\xa4t\\x89\\xf8\\xfc\\xab\\xa7l\\xf3\\xc3g\\xa3i\\x1d\\xd9\\x19z\\xe3b\\x9d.\\xfe\\x911C\\x9b\\xed\\xf4\\xd4G\\xdd\\x85\\x15\\xfc\\xf2rK\\x05\\xe7\\xb0\\xae\\xce}\\x0c6+_D6I\\xc9\\xd8\\xc42\\x94\\xa1\\xc6\\xdc4\\xd1\\xd2wL\\x9f)\\x1c\\x0b\\x1b\\xb1H\\x89\\xb3\\x9c\\x04\\xe0\\x95\\x8d\\xbb\\xd0\\xfb:\\x9f\\xee\\x9fph\\xbdt\\xce\\x92\\xfe;\\xcc\\xb4\\x82t\\x9c\\x8a:\\xde\\xbb,\\xd2#pFa\\x91`\\xfe\\xcd\\x1d\\x0b,\\x83\\x0b1\\xb8\\xb2\\x07\\xd7\\xb2~\\xe9{\\x9c\\xe3\\x91<?N\\xabE\\x19\\xda8\\x1c\\x93\\xe8\\x16\\x9cS\\xb78\\xff]\\xb0\\x95F\\xf0\\x04\\x84Y\\x18\\xca;\\xe9\\x15\\xa55\\x02Z\\xe9\\x96\\xc5}\\x01\\xc2\\x8b\\xc6\\x0b\\x82\\xc4\\xd6)\\xdc\\xfa\\xe3\\x8e\\xd22\\xed\\x92\\x8c\\xc1c\\xa4\\x9c\\xb0t\\x99qlS_\\xd3p\\xc0)\\xc7\\xae\\xf9\\xe7\\xba%\\t8zS\\x05\\x85\\x07\\xb0o\\x9c\\x9b\\xf0\\x00\\x00\\xfe\\xedg\\xbf\\x14`\\xdfU\\xa0<j\\xd6X\\x91\\xd6z\\xd9\\xf6\\x90\\xe0\\xc4\\x8f\\xf1\\xd8\\tc%\\x1b]\\xf4\\xf6c\\x10+$]AX\\xd3zE\\xe9ti\\xb0\\x10\\x7f7\\x11\\xcfY\\xbf\\xd1k\\xcb_e\\xad\\x80\\xf0\\x1f)\\xa2\\x16\\xfa\\xb0\\xcaB\\xd6\\x90#\\x86`\\x08\\x05ZRf\\xbe\\xb4\\x7f|;^\\xb9\\x8c\\x98\\x8d[o \\xaa7\\x9e\\xdcf\\xd8\\xed\\x16\\x14\\xe0\\x07]\\x89\\xd6-\\xae\"\\xec}\\xe9\\xd5\\xaf\\xc9\\xae \\xce\\xd7\\x84\\x9b\\'\\x84\\xe1b\\x95\\xf4)\\xf2\\xb1\\'\\xc1\\xa4R\\xb6\\xdf\\x07\\'s\\x16\\x81W\\xc2\\x02\\x89G\\xb0\\x9d\\x90\\x86\\xe6\\xd0\\xae\\x14\\x12\\xde\\xa9\\xbd\\xa9ej\\xd1*3 \\xf2\\x06\\xcdN\\xfe\\x94\\xc1C\\xa0\\x85\\xbe\\x90\\x95 \\xcb\\xa2\\x88\\x18\\x13\\x03\\x12b\\xa9Ch\\xb7\\x1em\\t|\\x91j\\x10\\xa8\\x85\\xae\\xf8\\x91B\\xb9Q\\x06\\x0b\\x80\\xd8\\xa7P\\x93\\xc58\\xf3\\x8b\\x03.C\\xf24H\\x80#\\xddJ0\\xda\\xef;\\xd0\\xa1\\x8a\\xe1\\x92\\x08\\xe7\\xd0\\xcb\\xab\\x06a\\xf0\\x8dGh\\xfe\\xb6\\xad\\xed\\x1a\\xff\\x13\\xbe\\xe2\\xfe\\xda\\xf4\\xd1\\xdc\\xc8vq\\xaf\\x99[\\x7f\\xdc\\x92\\xd0\\xceo\\xf5\\xc3\\x91\\xb1\\xcfb\\x07\\xc2\\xec\\x9f\\xb8%\\xa6\\xf8j|\\xee}P\\'\\x84P\\x05\\xd6\\x82\\xaa\\xe3\\r\\xa6X>\\xbf[\\x1fQ9\\xc1B\\xd4,\\x14\\xc8\\xb1wO9/\\xddbwC\\xdb\\xab\\tl|\\x84\\xb7=\\x10A1K(Q\\x97\\x828\\xdb}\\xab\\xba\\x023\\xcfO\\x85GU>\\xe2c\\xe7Y\\xcf$\\xa5\\xc7\\x10\\xb4\\xce\\xe9\\x8am\\xcb\\x82$\\x16\\xc6\\x19\\xc6AH\\xc5\\x88\\x85\\x82\\x95\\xf2\\xbd\\xaa/\\x0b\\x02d\\xbcn\\xa7\\xf8c\\xe4\\xc3lO\\xc6\\xda\\xe7\\xe3;\\xb4,Q\\xb8\\x82\\xc6\\x81\\x16\\x90\\x00I\"\\xb6\\xf1\\x8a\\xe6\\x94\\x15\\x13\\x02x\\xa2\\x1ev\\x89\\xb4\\xdd\\xbeT1o\\xc3\\x14Pj\\xe8,\\xf6!f\\x12\\x88\\xee\\x84\\x15\\x06\\x8c[\\xa8\\xfa;\\x9f`\\xfc!\\xe4\\xcd\\xe9i<\\xe2)Q\\\\\\xd3\\x97\\xf4A\\x03\\x08\\x8f\\x9e\\xae\\x8e\\x1fSY\\xef=\\xbe\\x82\\x05v\\xd9i\\xf3wQ\\'v\\xde\\' \\xde\\xc8\\xfeE\\xcdjV\\xf4\\x05\\x9a|@\\xb7\\xce0\\x8d\\x16>\\x19\\xaa\\x1f\\xe2\\xc9\\xe9\\xd7\\x1ey\\xf1\\x9e\\xcc\\xc4+1\\x1e\\xeaC\\xdf \\xa9nY\\x1d\\xfeQIm\\xf1\\xc3\\x0c\\xf8\\xeb?\\x97jL\\r[~\\xa6\\xd3u\\x155\\x86\\x8c\\x01\\xf0h\\xb4+\\xe8\\xf4\\xde\\xdf\\xe2\\x8a\\x92Re\\xf0\\t\\xa2M\\xafJ\\x1f\\x88p=\\xb9\\xa0\\\\\\xaa\\x13\\x9f\"\\xe7!\\xfa\\xc5\\x8f\\'\\xa9\\x90 \\x00\\xac\\x96\\x8d\\x08\\xe4.\\xb1\\x0b\\x1d\\xb9\\xe5\\x8aJ\\xb2\\xcb\\xf52j\\xc1\\xe4\\xbf\\xc3\\xa5\\xfc\\x11\\xc2\\xd1\\xef\\x1e{X[\\x11\\xa6\\xe4\\x11r\\x879\\xb6\\x11\\xd2<\\xc6t\\x91\\r\\xee\\x15l\\x89\\x88\\xee\\x9e\\xce\\xf6\\x88\\xbf\\xc1\\xa8e\\x8f\\x0b\\xa2A2!\\x0f\\x93`\\x8a\\x8e(\\xfdp\\x8b\\xb3\\x89\\xa9k\\xffv\\xa8$\\x05\\x82=\\xb7L\\x0e}x\\xd4\\x99&\\xd2g\\xff\\xbb\\x08\\xd3\\xeb\\xd2\\xb2\\xd2\\xe4\\xa2x^\\x948\\x02\\xf7;\\\\/\\xf1\\xe0\\xd3\\xd4\\x03\\x9c6O\\xec\\x0c\\x91\\x02B\\xc3!i\\xd9\\xcb\\xeeF+\\x87\\x1b?/6\\xfc&\\x8b03b\\x93\\xf5\\xfd\\x82\\xb0\\xcc^w\\xe6\\xb42\\x9d\\xdb \\xac\\x1fRO[e\\xf4 \\xb8z\\xc2\\x1d\\x07u\\x9b\\x18u\\xc2\\xb0XW$\\xf3#\\xc3\\x84\\xb6\\x15\\xa6\\x84\\x8dc\\x9bN\\xbeEr\\x08u\\x88\\xa6t\\xdd\\xc1\\xb8,\\x9e\\\\/\\xccC\\xf0\\xef\\x010\\xa3\\xeaL#\\xa4\\xd6\\x1c\\x8e\\x93\\xfcwKx\\xbf\\x07\\xd9\\xf7U\\xa03~\\x81\\xee\\x1edK\\\\\\xefm\\xbe!\\xf2\\x90\\xfa\\x97F\\'J\\x96_\\x063\\xc5SA`\\t1RFa\\x93E\\xc4;\\xd40\\xad\\xc9\\xbc\\xf0\\xc0\\x9dHZ\\xdcL\\xd5\\xfd\\xc5\\x97a9\\xec\\x11\\x0c:xJ\\x00!\\x93 \\xafUx%xP\\xf4\\xc1\\x17\\x05y\\xb0\\xc2rM*\\x0f\\xc7yf\\'\\x10u\\x03\\x1b\\xbc\\x83\\x8b\\x1c`H\\x0c`\\x16\\xd9\\xa8ST\\x1aeVf*\\xce\\xdc\\xd8\\xde\\xf1\\xff\\xc4\\xff\\x11\\xdf\\xf42~+\\\\=\\xce\\xc0V\\x043pL\\xa5\\xff\\x03\\xb0\\x06.&\\x144\\x97\\x0f\\xacc\\xb3\\xe7\\x1a\\xe3\\xa5\\x82\\x92B1`\\xc6\\x11\\x85\\x0c&\\x8b,\\x8e\\xedEM\\xa9X\\xc9>\\xb2)g\\xa1\\xd9\\x16@\\x03l\\xa3\\x13\\t\\xbd\\x07\\xdf T\\xf6\\xb0\\xe1\\x1acP\\x1c\\xf4D\\xb1x\\xf4VB:\\xe5.\\x05\\xa3\\x02\\xf5\\x8a\\xe3\\x90\\xfc\\xea\\x880\\x82\\xb7[\\xb616L^j \\xbfv\\x8f$\\xa0\\xfc`v5(gZ6c\\xf4q,\\xb9F\\xb6 \\x95\\x03\\x183\\xcez\\x87\\x01W\\xe4\\x84F\\r\\x17?\\xdf\\x8d\\xb5\\n:\\xed\\xa9Ud\\xaa\\x87\\xadp\\xa2\\x06q\\x93\\\\\\xb2;n_\\x1f\\x15\\x9f\\xfdz\\xa5\\xa0u\\x16\\xac\\xdb\\x98\\x1e\\xef\\x82IC\\xefN\\x97q\\x80RK\\xe2\\xc6.Q\\xc3\\x15;\\xd6\\xb6\\xa9|E\\xe4\\xbc\\\\\\x9e\\xc3\\xf8SUW\\xacB,\\xa8}\\x81\\xddE\\xf6\\xa5\\xf4\\xd6\\xe3O\\xf6>\\x18x\\xc8\\xe5zQ\\xf1\\xb2\\xf3j^V\\xa7\"\\x88\\xaa\\xf3oN\\xc3\\xbb\\x01R\\xb4\\xcd\\x0b\\x891\\x93\\xbc?\\r\\xc1t\\xf7i\\x92\\x8e\\t(iJ\\xc7\\xec|C\\xcb\\xc4\\x13\\x05\\xe7l\\x1e-.2h7\\x88e\\xc8b~\\xc3\\xdd\\'c\\xa6\\xe1\\xf2D\\x1a\\xc1\\xfb\\x04\\xa9\\\\=Z\\xb9\\'\\xeb\\xb8\\xae\\xaa:\\xa4\\xab\\xb6\\xcc\\xa7\\xf5\\xb12c\\xae\\xe4\\xc4\\x82\\xe2\\r\\xa3\\x02\\x8bV=\\x1b(\\x8a[\\xa2(\\x0fu\\xe1\\xa4\\x8f\\x94J#?\\xfd>\\x8d\\xf0|\\xce\\xe2\\x95\\xd5\\xa9\\xf8 \\xfe\\x08\\xb5\\xc7f\\x82ck\\xc6~s\\x9a\\xc8\\xfa\\xc3\\xc8{A\\xdcX\\xa5\\xe1\\x96\\xfb\\xe3w\\x0e\\x12\\xcc=\\xf9\\xfa\\x97]!\\x96\\x08B\\xdb\\xb3sy\\x9a\\xdf\\xd0q\\xb2J+m\\xd97R\\xe0P\\x10\\xb93\\x0b\\xbd\\x02j*\\x88\\xb8q1(\\xa5X}\\xee\\xb8\\xec~\\x84M^\\xb1vj>\\xea\\xb5i\\xab\\x9d\\xda\\xe0\\x18\\xde\\xe7\\x86.o\\xf9z\\x19\\xd5\\xfe+\\x11\\xd2\\xd0:\\xa8{\\xab\\x9eX\\xea\\x0e\\x0bM\\xb2\\xb87*\\nc\\x80\\x1a\\x1f\\xc5\\xb5\\xe2\\x12\\xcf\\x8e\\xd2P\\x86\\xe9\\xee\"h(\\xab\\x16sQ\\xd0\\xdc\\xb9\\xf8\\x90u\\x93rW8\\xf0\\x8fiJ_\\xad\\xe0\\xc8\\xda\\xe9\\xdf\\xdb\\x1e\\xfe\\xe3\\xdc\\xb6\\xbe\\xa3\\xa3@l\\xbd+\\nX\\xcb\\x88\\xe0B(\\xa8\\x15B\\x99\\x84#\\xe8\\x13\\x91\\x88\\x9c\\x8b\\xc5\\xcep\\xeb\\x84\\x0b\\x08\\x0c\\xffs\\x8b\\xde\\x88\\xcf{\\x06~\\x1b\\x9b4k\\xd41\\x83\\xebA\\xbd\\xc0L\\x04Q\\xcbi\\xc2B^\\x83\\xf4\\x1e\\xf7\\xe1BZ\\xcf\\x95\\x87\\xa5hr{\\xe0\\xdf\\x95\\x0c\\xc7?\\xc6\\xa8\\xeab\\xbf\\xadA6\\xa2\\x86\\xf7\\x15\\xbd\\xa7<=,\\xdf\\x04\\xdb`\\xd1\\x1dI\\x8dF\\xcd|\\x88XK\\x19\\x8f\\xa2\\xba\\x19\\x92\\x1c\\xdd\\xdf?b\\xb2\\x05\\x92k \\x02\\x92\\x12\\x88\\n\\x81\\xc6a\\xc9\\xdf4,R\\xe9\\x10t\\x91i\\x87\\x95\\xce\\xed6\\t\\xb26Qx,\\xb8\\x85\\xb5\\xa9\\xb1\\x1fUg1Pr\\xf1\\xd5\\xbcA\\x13M\\xc3|\\x99\\xba^\\x9f}\\x88?\\xac?\\xa7l\\x898\\xe3\\xfeV\\x8d\\xe8G\\x0e&\\xe4\\xfd\\x1aGA\\x84\\x17\\x8f\\x11*Z\\xa7\\xf5\\x1d\\xbf{\\xf0\\xfb\\x9d\\x1f\\x9a~\\xfd\\x9f\\xad\\xff\\xbf\\xbe\\x06p\\xf8E\\x99\\xc7\\xaa\\x90\\xa0\\xa9e[\\x88M\\xef\\x1e\\x05\\xd2p\\xb9\\xe0JO\\xb1\\x81\\xad\\xa4\\xb5\\x10\\\\\\x82\\xbcg\\xe5`\\x98o\"\\xeew\\x1a=\\xc0R\\xec\\xaaQ\\xad\\xd5\\xc0\\xee_\\xb8\\x1b\\x99\\xa6\\x95j\\x84\\xbe\\xac\\xacU\\xc7x\\x90\\xf8\\xe5\\x90y*\\xa4\\xa0{\\xf2\\xab\\x18\\xea\\x06\\xc8\\xde\\x9a\\x1d\\xa1%_!\\xa8q\\xf6\\x90;\\xfa\"?\\x10\\xe8yt\\x7f\\x84\\xaa\\xa1g\\xa2\\xa0wj\\xbf9q\\xe0gH\\xb8Q\\x1a\\xb2\\xaf\\xe5\\xa3QL\\xf6\\x95\\x9d:t\\x8d\\x04\\xed\\xe4\\xe2\\xc2y}q\\xa2\\xacy\\xe0\\x05\\x9f\\xed\\xd9V\\x115};\\xbb\\x97\\xad\\xf9\\xfc\\xd3\\xce\\\\\\xa1\\x08)S\\xd1\\xdb!m\\x96\\x89\\xc0\\x84\\t\\xcf,S\\x86\\xe9\\x86\\xa7te8\\x17\\xb0I\\x8b\\xfb\\xf8\\xebhw$\\xa1\\x11%b\\xa7cl\\xb0\\x87O9\\xd7!b\\x9b\\x0b\\x15\\xbe\\xdf\\x7f<\\x0b\\x00\\xdae\\xae\\x8b\\x97pB\\x80t\\xb5\\xa7\\xb3\\xa2\\x8db\\xa4b\\xfbi\\x98(\\xcet\\xf7f\\xf6!\\xaf\\x16Kr\\x11l\\x8a\\x14\\xcdZ6\\x80\\x06V\\x9e\\x12\\x05\\xc7\\xe9\\xba\\x8bb\\x92\\xf1L\\x11\\x96!\\xfc\\x11\\x9b\\x07\\n\\xc8\\x82x\\xe2\\xfc\\xf54&iS\\xde\\t\\xf1\\xcfT\\xad\\xaf\\xcb\\xa5Qk#g\\xa1\\xa4\\xa1\"4\\xe6\\xfc\\x87I\\x16\\xb6%\\xef40+\\x88\\x97\\xd6(\\x8f\\x0c\\x86\\xde?\\xbb\\xd5\\x1dA\\xfc\\x10\\x0bXi/\\x1b\\x1d\\xe5\\x11!\\x88c&[\\xd2W#t\\xf5\\x9e\\x19\\xde*\\xe9Et\\xb2(\\xe5\\x95\\x9b\\x95\\x03\\xa6\\x9d\\x01#\\xbeb\\xa1\\xf2\\x03\\x8b\\xe3\\xdb\\xf5=S\\x84\\xc2\\xae\\x05\\xac-So\\x95H\\xda\\xdcS#[\\x05\\xab9\\'\\xa9\\x87\\xe9\\x84\\xeb\\x1b\\x89\\xd2P\\xd9\\xec^\\x90=\\xa1\"3\\x06\\xbbE\\x7f\\x7f\\x83Z\\xdf\\x7f\\xcc\\xa7\\xa4\\x80\\x8c\\x87\\x8f\\x18\\xf7\\x8b\\xd5\\xbc\\x80E\\x04\\xfbv^\\x06\\xa1\\x17\\x999\\xd5\\xc8d0O\\xfc\\x83\\xbf>=\\xc5\\xdcq\\x8c\\xac\\xf1\\x11Qkb\\xcbB\\xcf\\r[\\xc9\\xa4\\xd1/+\\x13\\xad\\xd4Y\\xf0\\xbd\\x06\\x94\\xb8\\xb7\\xff\\x9f\\xf6\\x83t\\xff\\xcf\\xe1)F\\xba\\xee\\xd2\\n\\xe7<\\x1d\\x88\\r\\x9b\\x1a\\xe4\\xfcc@\\xe15\\xab_6\\xcfx\\x8f \\x94w)\\xed\\x11\\x82d;\\x86\\xb4z\\x9d\\x10Xin)c\\xca\\xdfj^st\\xa5\\xbc\\xb4\\x02\\x93\\x11\\x88N\\xdc\\xa2\\xe2j\\x8c\\x8bpX\\xae\\xed+pk&z\\x98\\x9aW6!\\xbb\\xd2&b\\xf3\\x03\\x98\\xe11\\x86Y\\xdd\\xdf\\x99\\xba\\xd7\\x05\\xd3\\xf0F\\x13:t\\xe9\\xe4b\\x83On\\xa7n\\xad\\xd4\\x14\\x0e.\\xfd\\xa8V\\xf0_\\xcb\\x83\\x88\\x9cr`\\xe8gKx\\xf05\\x8eh\\x9cE\\xd6,\\xd9\\x00p^\\x02v\\xfa\\x05+\\xbe\\x89\\xfce\\xd7\\x85Y\\x0b{\\x03R\\x06\\x89\\xf8\\x87\\xda_\\xd7\\xa7J\\xb3\\x98\\xeb\\xe0\\xb7\\xe1\\xc4}\\xf1\\x11\\xe9\\xb2]\\xf5d8\\x00]\\x9e\\xde\\x00\\x93\\xf9\\x8e\\xf0I\\x1d\\r\\x83\\x00\\x1by]\\xe4\\xc28\\x1a\\x82\\xce\\x8f1K\\xfa&\\xc0\\xea\\xc6\\\\S\\xae\\xc4$\\x9f\\xde\\xcc\\r\\xe1\\x9b\\xbd\\xa8h\\x94\\tJ\\x06D\\xe902\\xc8\\xad]\\x83s\\x080\\xa8\\xd7\\x94\\x9f\\xfcr\\xf5\\x1b\\x9b4p\\xaf\\xe2)\\x957\\xd4M\\x10\\x89\\xb8 Q\\x96\\xc8\\x9b\\xba\\xec3q\\xbd\\x08\\xa8\\x0c\\xa8\\n\\xad\\xbdG\\xc3*\\x92\\x84Y\\x1b\\xfa\\xbc\\xba\\xab\\xb5\\xa1\\x02\\xf6\\xbf\\xe8H\\xe4\\x91l8`\\x03\\t\\x8d\\xd5\\x8a\\x03\\\\\\xfcTB\\xbd\\xe8\\xa9\\xe7\\xf66d-\\xe7\\xd7\\xe0\\x0e\\xa8<\\x0c+\\x18\\xc6\\xe2\\xb6\\x13Hb\\xe8x\\x89%\\x07\\xf6\\xa6\\xb8\\xa2\\xf0\\xbe\\xe8 \\xd2\\x84\\xddR\\x17\\xf3Up\\xef\\x7f\\x80\\xf6\\x14\\x88G0?\\xb4\\x13K\\xaek\\x16\\x9e\\xda\\x16\\x9bIE\\x15\\xed\\xba~\\x8a\\t+\\xab0R\\x9f]\\xa0\\xc7V\\x97DB\\xa8\\xd4h\\xfe\\xba\\x819\\xeb\\x15\\xf4\\x03\\x00\\xd3\\xe4\\xc0$\\x89\\xfbR\\xf5\\xd6#\\xe1d\\x9b\\x8c\\x16%lQOW\\x00TsO\\xad\\x11\\xb3\\xbb\\xb6R6u@\\xef\\x98zc\\x8e\\x85\\xf3\\x94R\\xa2y\\xf7\\x997\\x15se\\x83\\x8f\\xab\\xfdq\\xcf\\xe8\\xc0\\x95^\\x9f\\xa6\\x0b\\xca\\x87V\\xf9\\x99\\xb1-\"\\x1b\\x15.\\xc4W\\xdei\\x0e\\x1a\\x0f\\xb5\"\\xc0+\\xcfM\\xd44{\\xea\\x81\\x9c\\x82u\\xed+\\x1d\\xcc\\xa3\\xe3k\\xf6b\\x96\\xb5\\xda\\x91\\xaf@:C\\xc4.\\x12\\xff\\xa5\\xba\\x00&t?\\xf7cjT\\x16\\x05Z\\tw\\xcc\\x08\\x9f.\\xe0)n\\xe7\\xc3\\xa79\\xedo`\\x8c\\x9c\\x13\\xb7\\xd0\\xad\\xb8<?s\\xdfcY\\x18\\x15\\x1cV\\xae\\xb33ql`TU\\x9aL\\xc5\\x01\\xc8\\x00\\x08\\xad>\\x05\\xb8ix\\xc9ox\\x9e_\\xbe\\xb7\\xe3\\xb8qX\\x89.\\x00\\x84\\x9c\\xbe{\\xca<\\x1eG\\xd1\\x93\\xbeQNu(\\x80?\\xbe\\x88j\\x08q\\x18\\x8dz3\\xaeg\\xaa\\\\\\x85\\xd5\\\\i\\xa27\\xd6\\x84\\xf7H\\x0f6y\\x95U\\xacF\\'\\x05g\\x0fc%\\xfa\\x81{eM>F\\x9e&\\xe4\\xffn\\xac?Z\\x8c\\xca\\x90aJz\\xec2\\xea\\x1b\\xf6B\\xaf\\x97\\xb5\\xec\\xa3\\xbc\\x13\\r\\xf06\\x0fYl4\\xb3\\x15AZ[\\xfa\\x98\\xe9\\xdb\\xd3o{8\\xf3\\n\\xae6|\\x1e\\xa7\\x9a\\x99u\\x1e\\xd2\\xe0\\xe14\\xbf\\x0b.\\x0e\\xe8C\\'$\\x9d\\x0f)\\x1f\\n\\x7f\\xf8)f\\x8bM?C\\xeaP(v\\xba\\xc9k\\x16\\x8f\\x9b+\\xc3\\xe7(\\xef?\\x07zGwMD\\x11\\x12\\xdfxeI\\x9d%4\\x036\\xa0BY\\x91t\\xc0\\xe2\\x8e0?\\xfe\\x08>t\\x91\\x82\\xcb{\\xf6\\x98\\n \\xffj\\x8b\\xfeE\\xaeo\\x1a\\xf9\\xc8\\x1dr\\xf0\\t\\xa2B*\\x83\\xc5\\xd3\\xaa._<\\xfc\\x91\\xb5\\x9c\\xca\\xaa\\x8a\\xf2\\xf1\\x1b\\xcd\\xb68\\xf6\\xd5\\xaf\\xda\\xf1J\\xd9a*I3\\x13BQA\\xc4\\xaa\\xca\\xd1o\\x12\\xf7y\\xc3\\x070x\\xb6\\xf1[\\xea\\x1dG\\xdf\\xcd\\x1c\\xcd\\xbb\\x8a\\x03\\xc4@^\\x99\\xf0>\\xecYJ\\xc9\\xfd\\xfe\\x17\\x12\\xce\\xfbM5\\xb6\\xed\\xc2\\xe1%G\\xc8EI<\\x04\\xfe\\xf3\\x04\\x1c+g_\\xb9yK\\x99~\\x90\\xac4V\\x83\\x00\\x1al\\xaa\\xbc\\xe7e\\t\\x07:\\xdc\\x88\\xc7t\\xd9\\x8e\\x94\\xd5\\xaf\\xb3\\\\\\x1f\\x0eF\\xd7\\xf9fP\\x02\\xb5\\xaf\\xa1\\x8e\\xc67\\xd7Tp\\xe8\\xaa[\\xd5\\xc5\\xf0O\\x1b\\xbb\\xd2\\x8c\\x1d\\xeeT\\x00b\\x1b\\x7f}\\x9c\\x86\\xedPb\\x0be\\xcd>\\x8cR\\xa7\\x85\\x0bg\\xcf\\x0b\\xc7\\xfa\\x87\\xdb\\xc0\\xb6\\xae\\xe6\\x9cDh\\xaa2\\x01\\x1f\\xbdX`=h\\x03\\xdc\\xc9\\x7f\\x99_\\x06\\x9b^\\xbf\\n\\x85.\\x8c;\\xe8\\x8a\\xd9i\\x85\\xb2ed\\x0cb\\xcb\\xd5\\xeb\\x93n\\xeb3\\\\\"cE\\xe0\\xf0>\\xbc\\x91&\\xd6\\xc2\\xee!\\x0b\\xc9\\x08{\\n^4K\\x02\\xa7\\x1cu }H\\x9fc\\xd5\\xd5C\\x8a\\x16Po\\x07yU\\x99\\x81\\x00\\x16d\\xa0\\x8a\\xa2\\xe0\\xf8\\x1a\\x17\\x83\\xbf\\xb6\\n\\xb4\\x1b\\xf5\\x86\\x13 7\\xef=,\\xe2\\xe8\\x87n`&\\xe1\\x05\\xf7\\xca\\x00\\x16\\x87\\xde8\\x0c%-\\x8f$\\xcd\\x13X\\xe7\\xc3Q\\xc6\\xaf\\xff\\x14\\xa9\\x8d\\x92\\xa4P\\x85g&\\xb6\\x8eNp\\xc9\\xb0\\xb1]\\xf13\\xf0fQ\\xc2\\xf1\\x9f\\xeelU\\xe6Xd:M^g\\x1b\\xa8k\\xce|\\x9b\\x7f\\xce\\xadT^\\x93\\xe3\\x95\\x81\\x8e\\xbc\\x86}$n\\x812\\xa6\\xdcH\\xe4)\\xf3\\xaeJF%z\\x0c;x\\x16\\xd7\\xe9\\xefG\\xabJ)\\xba\"\\x95,nPY\\xdfSS\\x02\\xdb\\xf3\\xfb\\x9ez\\xd7\\xde\\xf5\\x92\\xb2+\\x85\\xea\\xd4\\x88z5\\xaa\\xda/U)B\\x90q\\xbd\\xa1L\\xa8\\x1a\\xc1\\x95k\\xbf\\xc0x6\\x86\\xbb-\\xdc\\x1d8nz\\x8d\\xd4\\xef$\\x85\\x05\\x8f9@\\xaf>3r\\xb5zk\\x8a\\xb9_\\x97\\xdb\\xf9\\xd4<\\x99\\xbe{\\xa7\\x05\\xf1\\xab\\xce2\\x99>1\\xc1\\x0b\\xa9\\x98\\x98\\xa6 1*I\\xc3g\\xc5\\xd8\\xbb*I\\xd8\\xa5\\xfa3\\r\\x14\\xb7<\\x08I[\\x0cdz4\\xce^\\xcbel&\\xb7e\\xbd\\xa6DD\\xb8\\x1f\\x9di\\xbe\\xc2\\xff\\xebX&\\xe8\\x89\\xb2\\x06\\xf5U\\xb0\\xa4\\xd1\\x8a\\xe5B\\xc4\\xab\\xa0\\x1cX#\\x98!\\xda \\xfb\\xc5\\'\\xfa\\x0eydk\\xa6|\\x8a\\x17\\xf6\\xd3B\\xa6N?9\\x7fpM\\xda\\xbd\\x8e!wA!x0\\xf4\\xfaK\\xed\\x9f\\x0f\\xd7\\x8d\\xa7n\\xb5\\xc9\\xca\\n\\xbeN\\x1c,x\\x82\\xd0\\x11]\\xb6\\x02*_\\xfeVK=pF76\\xc4\\x8d\\xf0\\xae\\xb0\\xbe\\xa4h\\xb2\\xb8\\x95\\xfe\\x01\\x96\\xe0a\\xdf\\xb9\\x02\\x9eMO9\\x1aN&O\\x1b\\xc4\\xec\\xf8\\xdb\\x9cQ\\x18\\xfb-J\\xb7\\xf9\\x03\\xdd,\\x99w\\xaa\\xd7\\x12\\\\\\xd6;\\x94P\\xe0N\\xa8<lI\\xaf\\x12\\xaa1\\xedi\\x84\\\\ iq\\x15.G\\xcb\\x92\\x06\\x80\\x1b\\xe0d\\xdbNE\\xbbG\\x85\\xf9\\x81\\x01\\x06p\\xd3s#\\x88\\xff\\xe9}\\xc6s\\x80\\xc8\\xf5\\x99$\\xf3\\xf8\\xc4\\xff\\xd6\\x81\\xb8\\x97\\x83\\xa7\\x98N\\xef[mY\\xa3\\xbb\\xfd\\xe4\\xd10\\xf3\\x83k\\xa4\\x83\\xc0\\xb93\\xadJ\\x00\\xee\\x1d*a\\xbb\\x98\\xdf\\xd4\\xb8\\xc90y\\xe0\\x16\\xc2\\xb4\\xd9\\xb7\\xfe\\xd8\\xffN\\xf5~Wo\\x97\\xbe\\xfe\\x07\\xab\\xd6/\\x91\\x1eF\\xf9\\xfa\\xb47b\\xa7\\x0b\\x97\\x86\\xc4\\x9b )\\xa6\\xba\\x1a,)W\\x01\\x1e\\xa2-\\x06?\\xe0\\xc1\\xebS\\x83E1\\xc1Q\\xafI\\'5\\xbf,\\xc6\\xd8b\\x81V\\xd4R\\xd1f (\\xe7\\xd2\\x82[4\\x99<\\xb1,\\x97\\xcb\\xbf~&\\xee\\xb4\\n\\x9f,\\xdc#\\xa7\\x02\\x8e|\\x93J\\x98\\xf6\\\\(\\x83a\\x02\\x89\\xfe\\x1c\\t\\x85^L\\xee\\xee\\x07\\xae(4\\n\\x9d\\xe5\\xd1\\x91\\'\\x99\\xdb\\xca\\xd7\\xb8y\\xb5\\xe2\\xd2\\xdd\\x13\\xed\\x81\\xc6\\x0b\\xfaD\\xa5&\\x1f\\r\\xe1\\x87B\\xced*\\xbe\\xe1Q\\xbd\\xaaLP\\xf7@\\xfb\\xa7G\\x96\\xa9}\\xeb`x\\xf2]\\xd2\\xc3\\xc6Zu\\x95^\\x97\\x8a\\xbe\\x90\\xec\\x19\\x90\\xf264\\x15\\xc8\\xa6\\x97\\xc0fv[J\\xeaa\\xe7\\x8d\\x18{q\\xa9q\\x17\\xa0\\xa8\\xd0&L\\xde\\xe2OM\\xd5\\x1f\\x14~\\xfc\\xac\\xa8\\xedv\\xd8\\x0bE\\x08\\x7f<\\xd0\\xb6\\x9e\\xb3H\\xdc\\\\(\\xc3\\x14\\xceE\\xfb\\xf2\\x11\\xb5\\x80-\\xcf\\xa2\\x070+\\x13X9N,?\\xc1\\xa5Q\\xf8:\\xf6\\xe3\\xcc\\xcf\\x0c+\\x92\\x0e\\x14\\xb2\\x08\\xc7\\xe2#\\x9e\\xd0\\xfd\\xa0}\\xc5\\x9f\\xc9\\x8fD\\xc8\\xfa\\xa1\\xa3\\xb9\\x89\\x1d\\xdc\\xa5\\xf9\\xa2\\x83\\x8eA\\x90_\\x9eS5i\\x07\\xb9\\xec\\xafO~e\\xc9-v+d0t!*M\\xf1\\xa3M\\x8e\\xef\\xfa\\x998pf\\x86\\xde\\xed\\xf5\\x8d\\xc0?\\x96\\x9d\\xcc\\xa4\\x99\\xfa3\\x07\\x98\\xad\\t]\\x18s\\x12\\x01v\\xa6\\n}1\\':\\x0fb\\xb6F\\xdb\\xe0\\x19\\xbb\\x93\\xbd\\x85\\xd2\\xad\\x89\\x91\\x05]zD\\xd2\\xc0]\\xff>~\\xa7h\\x07JH\\x15\\xb3\\xady\\x15\\xb0m\\xf1\\xc3\\xaeB\\x94\\x88\\xad\\xd6\\x0c\\x02\\xb9\\xa6\\x8d\\xf9A\\x00(\\x91\\xa7\\xcfl\\xba%`\\x82\\xdf\\xfbWd`K\\xdcR\\xaa\\\\\\xf3Dg!\\xb8Vo\\xec\\xa3\\xeci\\xed(\\xe1\\xb41\\x13\\x94\\xe9\\xa6\\xf0\\x9b1\\x86\\x80Q\\x80\\x00T\\x84\\xd8\\x98\\x89~\\x03\\xdcb\\x88$7r\\xe9V\\xc1\\x84T9\\xc5\\xad\\x9e\\xa2%\\xb8\\x92\\xb6\\x1f\\x08\\x97K\\xcb7i\\xd4\\xed@\\x86\\xf3T7\\x1dB\\x86\\xa3y9|\\x1c\\xffS\\xa0\\xfbvV\\x01\\xbf\\x12\\x12\\x18w\\xac\\xca\\xb4\\x85\\x97\\x1b\\xfb;\\x95\\xc7\\xb4\\x94Jq\\xef\\xb9\\xaa\\x0cO\\xce- \\x1e;{\\xc6\\x80r\\x1b\\xda/F{\\xd5\\xb9K\\x1f\\x9d?\\xa6SOZ\\x951\\x86}\\xa4\\xe6\\xd8\\xc3\\x12H\\xaf\\xac]m\\x83\\x9a\\xed\\n\\x00]\\x1e\\x80\\xa3*D\\xf6\\xf3D.\\xd3YB\\xc0\\x8f5/\\x1b\\x04\\x18\\xaf\\x1f\\x861|\\xba\\xa8)0GZ!8\\xc2\\x9e\\xea\\xa5\\x8d{\\x97\\xe6Y\\xd8\\xb5*e\\x11\\xfb \\xa4\\xd1\\x90o\\xadA\\x079\\xd4\\xe2\\x9bK\\xfc\\x8bN\\xa1\\xdc9Oz\\x18\\x90\\xae\\x96\\xe9\\x13\\x16\\xa9\\xc6\\xd8\\xee\\xcd\\xc1\\x11M\\x1aB\\x9c.s\\x91\\xb1>\\',[AL\\xccl3\\xb8\\xb0|\\xa0-AW\\x15\\x06Al\\xb4iX6\\xa8\\x8dJ\\xb8#I)\\xc8\\x03W\\xf1\\xaf_\\xca\\xaeJ2k\\xaa\\xc7\\x89\\xd4d\\xbb\\x9e\\xca\\x0f\\x0f%\\rG#\\x01\\xe5?<\\xde*\\xd5\\x19?\\xe5\\xaa\\xe0\\x02\\x7fRP\\x00'\n",
            "New image is available\n"
          ]
        }
      ]
    },
    {
      "cell_type": "code",
      "source": [
        "#Writing data to .csv file\n",
        "import csv\n",
        "with open (\"emp.csv\", \"w\",newline='') as f:\n",
        "  w = csv.writer(f)\n",
        "  w.writerow([\"ENO\",\"ENAME\",\"WSALARY\",\"EADDR\"])\n",
        "  n=int(input(\"Enter number of employees: \"))\n",
        "  for i in range(n):\n",
        "    eno = input(\"Enter employee no: \")\n",
        "    ename = input(\"Enter employee name: \")\n",
        "    esal = input(\"Enter employee salary: \")\n",
        "    eaddr = input(\"Enter employee address: \")\n",
        "    w.writerow([eno,ename,esal,eaddr])\n",
        "print(\"Data inserted successfully!\")"
      ],
      "metadata": {
        "colab": {
          "base_uri": "https://localhost:8080/"
        },
        "id": "1lqNtxaLnWdX",
        "outputId": "60c46bb5-966f-48de-d4dc-4b5149245ef2"
      },
      "execution_count": null,
      "outputs": [
        {
          "output_type": "stream",
          "name": "stdout",
          "text": [
            "Enter number of employees: 2\n",
            "Enter employee no: 1\n",
            "Enter employee name: a\n",
            "Enter employee salary: 1000\n",
            "Enter employee address: abc\n",
            "Enter employee no: 2\n",
            "Enter employee name: b\n",
            "Enter employee salary: 2000\n",
            "Enter employee address: def\n",
            "Data inserted successfully!\n"
          ]
        }
      ]
    },
    {
      "cell_type": "code",
      "source": [
        "# Reading data from .csv file\n",
        "import csv\n",
        "f = open(\"emp.csv\", 'r')\n",
        "r = csv.reader(f)\n",
        "data = list(r)\n",
        "for line in data:\n",
        "  for word in line:\n",
        "    print(word,\"\\t\",end=\"\")\n",
        "  print()"
      ],
      "metadata": {
        "colab": {
          "base_uri": "https://localhost:8080/"
        },
        "id": "KzfeBg50s9L1",
        "outputId": "ca6bc280-d2c3-408a-8cb6-4db2fbf93c6a"
      },
      "execution_count": null,
      "outputs": [
        {
          "output_type": "stream",
          "name": "stdout",
          "text": [
            "ENO \tENAME \tWSALARY \tEADDR \t\n",
            "1 \ta \t1000 \tabc \t\n",
            "2 \tb \t2000 \tdef \t\n"
          ]
        }
      ]
    },
    {
      "cell_type": "code",
      "source": [
        "a=10\n",
        "b=0\n",
        "try:\n",
        "  print(a/b)\n",
        "except ZeroDivisionError:\n",
        "  print(\"Division by zero is not possible\")"
      ],
      "metadata": {
        "colab": {
          "base_uri": "https://localhost:8080/"
        },
        "id": "4jf4fgHrs9S3",
        "outputId": "7e41f478-95af-45d7-8f01-844dab97e856"
      },
      "execution_count": null,
      "outputs": [
        {
          "output_type": "stream",
          "name": "stdout",
          "text": [
            "Division by zero is not possible\n"
          ]
        }
      ]
    },
    {
      "cell_type": "code",
      "source": [
        "#multiple except blocks\n",
        "try:\n",
        "  a=int(input(\"Enter first number : \"))\n",
        "  b=int(input(\"Enter second number : \"))\n",
        "  print(a/b)\n",
        "except ZeroDivisionError:\n",
        "  print(\"You can't divide by 'zero \")\n",
        "except ValueError:\n",
        "  print(\"Please provide int value only \")"
      ],
      "metadata": {
        "colab": {
          "base_uri": "https://localhost:8080/"
        },
        "id": "zn6wt7bRnWgk",
        "outputId": "41cfe5e8-4349-4652-9440-21fa12b1b617"
      },
      "execution_count": null,
      "outputs": [
        {
          "output_type": "stream",
          "name": "stdout",
          "text": [
            "Enter first number : 5\n",
            "Enter second number : 0\n",
            "You can't divide by 'zero \n"
          ]
        }
      ]
    },
    {
      "cell_type": "code",
      "source": [
        "#multiple except blocks\n",
        "try:\n",
        "  a=int(input(\"Enter first number : \"))\n",
        "  b=int(input(\"Enter second number : \"))\n",
        "  print(a/b)\n",
        "except ZeroDivisionError:\n",
        "  print(\"You can't divide by 'zero \")\n",
        "except ValueError:\n",
        "  print(\"Default Exception: Please provide int value only\")"
      ],
      "metadata": {
        "colab": {
          "base_uri": "https://localhost:8080/"
        },
        "id": "YDsYm-SKUsSH",
        "outputId": "4091c8a9-819f-4327-8331-932fbd858d42"
      },
      "execution_count": null,
      "outputs": [
        {
          "output_type": "stream",
          "name": "stdout",
          "text": [
            "Enter first number : 8\n",
            "Enter second number : 0\n",
            "You can't divide by 'zero \n"
          ]
        }
      ]
    },
    {
      "cell_type": "code",
      "source": [
        "#Finally\n",
        "try:\n",
        "  print(\"Hello\")\n",
        "  print(10/0)\n",
        "except:\n",
        "  print(\"Something went wrong\")\n",
        "finally:\n",
        "  print(\"Finally block\")"
      ],
      "metadata": {
        "colab": {
          "base_uri": "https://localhost:8080/"
        },
        "id": "gKpO_CA1UsVH",
        "outputId": "1299e14b-0717-46d3-e628-c573a28fffd3"
      },
      "execution_count": null,
      "outputs": [
        {
          "output_type": "stream",
          "name": "stdout",
          "text": [
            "Hello\n",
            "Something went wrong\n",
            "Finally block\n"
          ]
        }
      ]
    },
    {
      "cell_type": "code",
      "source": [
        "#find the leaders in the array\n",
        "n=int(input(\"Enter the size of array: \"))\n",
        "a=[]\n",
        "for i in range(n):\n",
        "  a.append(int(input()))\n",
        "print(a)\n",
        "for i in range(n):\n",
        "  for j in range(i+1,n):\n",
        "    if a[i]<a[j]:\n",
        "      break\n",
        "  else:\n",
        "    print(a[i])"
      ],
      "metadata": {
        "colab": {
          "base_uri": "https://localhost:8080/"
        },
        "id": "O6lEkf6cUsYH",
        "outputId": "09de2dcc-ccfb-4840-f512-571cfe5149a7"
      },
      "execution_count": null,
      "outputs": [
        {
          "output_type": "stream",
          "name": "stdout",
          "text": [
            "Enter the size of array: 5\n",
            "1\n",
            "2\n",
            "3\n",
            "4\n",
            "0\n",
            "[1, 2, 3, 4, 0]\n",
            "4\n",
            "0\n"
          ]
        }
      ]
    },
    {
      "cell_type": "code",
      "source": [
        "# TO MERGE THE SORTED ARRAYS\n",
        "a=[1,10,3,5,6,7]\n",
        "b=[2,4,8,9]\n",
        "for i in range(len(b)):\n",
        "  a.append(b[i])\n",
        "  a.sort()\n",
        "print(a)"
      ],
      "metadata": {
        "colab": {
          "base_uri": "https://localhost:8080/"
        },
        "id": "57aq6jz5cq-8",
        "outputId": "503ef2e3-f326-468e-d7d7-0c6dbeee8061"
      },
      "execution_count": null,
      "outputs": [
        {
          "output_type": "stream",
          "name": "stdout",
          "text": [
            "[1, 2, 3, 4, 5, 6, 7, 8, 9, 10]\n"
          ]
        }
      ]
    },
    {
      "cell_type": "code",
      "source": [
        "#OOP\n",
        "\n",
        "#Class is a logival reprsentatio of things.\n",
        "#Class is like a blueprint or template for the object\n",
        "\n",
        "#Object:\n",
        "#Object is the physical representation of class(Things)\n",
        "#Class has no meaning if no object is created\n",
        "\n",
        "#Inheritance\n",
        "#To access the properties of parent class in child class\n",
        "#Is used for reusability of the code\n",
        "\n",
        "#POLYMORPHISM\n",
        "#Polymorphism allows us to perform a single action in different ways.\n",
        "\n",
        "#Abstraction\n",
        "#Helps manage complexity by hiding unnecessary details\n",
        "\n",
        "#Encapsulation\n",
        "#Encapsulation ensures that the internal workings of a class are hidden, promoting modular code.\n",
        "\n",
        "#Dynamic binding\n",
        "#Exception handling\n",
        "#Message Passing\n"
      ],
      "metadata": {
        "id": "UySzRW91crBR"
      },
      "execution_count": null,
      "outputs": []
    },
    {
      "cell_type": "code",
      "source": [
        "class Student:\n",
        "  def __init__(self):\n",
        "    self.name=\"Ashish\"\n",
        "    self.age=22\n",
        "    self.percentage=88\n",
        "\n",
        "  def showInfo(self):\n",
        "    print(\"Name : \",self.name)\n",
        "    print(\"Age : \", self.age)\n",
        "    print(\"Percentage : \",self.percentage)\n",
        "s=Student()\n",
        "s.showInfo()"
      ],
      "metadata": {
        "colab": {
          "base_uri": "https://localhost:8080/"
        },
        "id": "nV460KencrEr",
        "outputId": "bddd0f54-b8e8-4ba2-9a43-e0fe2b27c30e"
      },
      "execution_count": null,
      "outputs": [
        {
          "output_type": "stream",
          "name": "stdout",
          "text": [
            "Name :  Ashish\n",
            "Age :  22\n",
            "Percentage :  88\n"
          ]
        }
      ]
    },
    {
      "cell_type": "code",
      "source": [
        "#Class with parameters\n",
        "class Student:\n",
        "  def __init__(self,name,age,percentage):\n",
        "    self.name=name\n",
        "    self.age=age\n",
        "    self.percentage=percentage\n",
        "\n",
        "  def showInfo(self):\n",
        "    print(\"Name: \",self.name)\n",
        "    print(\"Age: \",self.age)\n",
        "    print(\"Percentage: \",self.percentage)\n",
        "s1=Student(\"Sanket\",22,88)\n",
        "s2=Student(\"Amar\",23,90)\n",
        "s1.showInfo()"
      ],
      "metadata": {
        "colab": {
          "base_uri": "https://localhost:8080/"
        },
        "id": "u71CwhF2uV_t",
        "outputId": "b8d6457e-43bb-4026-8fff-b62fe4af2c86"
      },
      "execution_count": null,
      "outputs": [
        {
          "output_type": "stream",
          "name": "stdout",
          "text": [
            "Name:  Sanket\n",
            "Age:  22\n",
            "Percentage:  88\n"
          ]
        }
      ]
    },
    {
      "cell_type": "code",
      "source": [
        "#Class with parameters\n",
        "class Student:\n",
        "  def __init__(self,name,age,percentage):\n",
        "    self.name=name\n",
        "    self.age=age\n",
        "    self.percentage=percentage\n",
        "\n",
        "  def showInfo(self):\n",
        "    print(\"Name: \",self.name)\n",
        "    print(\"Age: \",self.age)\n",
        "    print(\"Percentage: \",self.percentage)\n",
        "\n",
        "s1=Student(\"Sanket\",22,88)\n",
        "s2=Student(\"Amar\",23,90)\n",
        "s1.showInfo()\n",
        "name = input(\"Enter the name: \")\n",
        "print(\"Name = \", s.name)"
      ],
      "metadata": {
        "colab": {
          "base_uri": "https://localhost:8080/"
        },
        "id": "zDW08IQbuWCm",
        "outputId": "c51c1087-b249-434d-8760-3790e14c5ef3"
      },
      "execution_count": null,
      "outputs": [
        {
          "output_type": "stream",
          "name": "stdout",
          "text": [
            "Name:  Sanket\n",
            "Age:  22\n",
            "Percentage:  88\n",
            "Enter the name: Gourav\n",
            "Name =  Ashish\n"
          ]
        }
      ]
    },
    {
      "cell_type": "code",
      "source": [
        "#delete instance variable\n",
        "class MyPython:\n",
        "  def __init__(self):\n",
        "    self.a = 10\n",
        "    self.b = 20\n",
        "    self.c = 30\n",
        "    self.d = 40\n",
        "\n",
        "  def func(self):\n",
        "    del self.d\n",
        "\n",
        "m=MyPython()\n",
        "print(m.__dict__)\n",
        "m.func()\n",
        "print(m.__dict__)\n",
        "del m.c\n",
        "print(m.__dict__)"
      ],
      "metadata": {
        "colab": {
          "base_uri": "https://localhost:8080/"
        },
        "id": "ZtYg5B3LuWFb",
        "outputId": "3993ca02-f5fb-41c4-91a0-7c86e67635d1"
      },
      "execution_count": null,
      "outputs": [
        {
          "output_type": "stream",
          "name": "stdout",
          "text": [
            "{'a': 10, 'b': 20, 'c': 30, 'd': 40}\n",
            "{'a': 10, 'b': 20, 'c': 30}\n",
            "{'a': 10, 'b': 20}\n"
          ]
        }
      ]
    },
    {
      "cell_type": "code",
      "source": [
        "#Static Variable\n",
        "class MyPython:\n",
        "  x=20 #Static Variable\n",
        "  def __init__ (self):\n",
        "    self.y=10 #instance variable\n",
        "\n",
        "m1=MyPython()\n",
        "m2=MyPython()\n",
        "print(\"m1 -- >\",m1.x,m1.y)\n",
        "print(\"m2 -- >\",m2.x,m2.y)\n",
        "MyPython.x=111\n",
        "m1.y=222\n",
        "print(\"m1 -- >\",m1.x,m1.y)\n",
        "print(\"m2 -- >\",m2.x,m2.y)"
      ],
      "metadata": {
        "colab": {
          "base_uri": "https://localhost:8080/"
        },
        "id": "jy0nQ4Bdx-XU",
        "outputId": "5c6f344a-e6e2-423a-dc0e-256572ffc333"
      },
      "execution_count": null,
      "outputs": [
        {
          "output_type": "stream",
          "name": "stdout",
          "text": [
            "m1 -- > 20 10\n",
            "m2 -- > 20 10\n",
            "m1 -- > 111 222\n",
            "m2 -- > 111 10\n"
          ]
        }
      ]
    }
  ]
}