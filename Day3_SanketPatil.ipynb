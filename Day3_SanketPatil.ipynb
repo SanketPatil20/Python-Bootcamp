{
  "cells": [
    {
      "cell_type": "code",
      "execution_count": null,
      "metadata": {
        "colab": {
          "base_uri": "https://localhost:8080/"
        },
        "id": "gTTXxkepSuNp",
        "outputId": "363ec4f1-88ed-4315-ddeb-8454e432a4b6"
      },
      "outputs": [
        {
          "name": "stdout",
          "output_type": "stream",
          "text": [
            "Enter the number: 6\n",
            "[1, 2, 3, 4, 5, 6]\n",
            "[1, 3, 6]\n"
          ]
        }
      ],
      "source": [
        "#Find missing numbers in array\n",
        "num = int(input(\"Enter the number: \"))\n",
        "num1=[]\n",
        "for i in range(1,num+1):\n",
        "  num1.append(i)\n",
        "print(num1)\n",
        "num2 = [2,4,5]\n",
        "missing=[]\n",
        "for i in num1:\n",
        "    if i not in num2:\n",
        "        missing.append(i)\n",
        "print(missing)\n"
      ]
    },
    {
      "cell_type": "code",
      "execution_count": null,
      "metadata": {
        "colab": {
          "base_uri": "https://localhost:8080/"
        },
        "id": "BTtqRqsVWUAy",
        "outputId": "f2133bcd-fb0c-4431-a021-ec86ed92dd56"
      },
      "outputs": [
        {
          "name": "stdout",
          "output_type": "stream",
          "text": [
            "Hello Sanket! How are you?\n"
          ]
        }
      ],
      "source": [
        "def show():\n",
        "  print(\"Hello Sanket! How are you?\")\n",
        "show()"
      ]
    },
    {
      "cell_type": "code",
      "execution_count": null,
      "metadata": {
        "colab": {
          "base_uri": "https://localhost:8080/"
        },
        "id": "ng5TPVoDWUQ3",
        "outputId": "9cd404e9-7594-4291-8f9e-778d1b0d395d"
      },
      "outputs": [
        {
          "name": "stdout",
          "output_type": "stream",
          "text": [
            "Enter the number: 56\n",
            "Enter the number: 44\n",
            "Addition is:  100\n"
          ]
        }
      ],
      "source": [
        "#Functions\n",
        "def add(a,b):\n",
        "  res = a+b;\n",
        "  print(\"Addition is: \", res)\n",
        "\n",
        "a=int(input(\"Enter the number: \"))\n",
        "b=int(input(\"Enter the number: \"))\n",
        "add(a,b)"
      ]
    },
    {
      "cell_type": "code",
      "execution_count": null,
      "metadata": {
        "colab": {
          "base_uri": "https://localhost:8080/"
        },
        "id": "XYGT7S6pZj31",
        "outputId": "892d838b-9787-4dd4-b8d2-0b354464902b"
      },
      "outputs": [
        {
          "name": "stdout",
          "output_type": "stream",
          "text": [
            "Enter value of a: 55\n",
            "Enter value of b: 45\n",
            "Addition is  100\n"
          ]
        }
      ],
      "source": [
        "#Using main function\n",
        "def add(a,b):\n",
        "  res=a+b;\n",
        "  print(\"Addition is \",res)\n",
        "\n",
        "if __name__=='__main__':\n",
        "\n",
        "  a=int(input(\"Enter value of a: \"))\n",
        "  b=int(input(\"Enter value of b: \"))\n",
        "  add(a,b)"
      ]
    },
    {
      "cell_type": "code",
      "execution_count": null,
      "metadata": {
        "colab": {
          "base_uri": "https://localhost:8080/"
        },
        "id": "z7q72z6nZj7R",
        "outputId": "43260eea-cbdd-49e3-ee35-57e7c2ce5462"
      },
      "outputs": [
        {
          "name": "stdout",
          "output_type": "stream",
          "text": [
            "Enter the number: 36\n",
            "Enter the number: 64\n",
            "Addition is:  100\n"
          ]
        }
      ],
      "source": [
        "#Functions using return\n",
        "def add(a,b):\n",
        "  res = a+b;\n",
        "  return res\n",
        "\n",
        "a=int(input(\"Enter the number: \"))\n",
        "b=int(input(\"Enter the number: \"))\n",
        "r = add(a,b)\n",
        "print(\"Addition is: \", r)"
      ]
    },
    {
      "cell_type": "code",
      "execution_count": null,
      "metadata": {
        "colab": {
          "base_uri": "https://localhost:8080/"
        },
        "id": "zuvCvvo5ZkDt",
        "outputId": "6b2b9436-b113-455c-a9d5-d51d3bcdde7b"
      },
      "outputs": [
        {
          "name": "stdout",
          "output_type": "stream",
          "text": [
            "Enter the number: 10\n",
            "Enter the number: 2\n",
            "Addition is:  12\n",
            "Sub is:  8\n",
            "Multiplication is:  20\n",
            "Division is:  5.0\n"
          ]
        }
      ],
      "source": [
        "#Functions using return\n",
        "def calc(a,b):\n",
        "  res1 = a+b;\n",
        "  res2 = a-b;\n",
        "  res3 = a*b;\n",
        "  res4 = a/b;\n",
        "  return res1,res2,res3,res4\n",
        "\n",
        "a=int(input(\"Enter the number: \"))\n",
        "b=int(input(\"Enter the number: \"))\n",
        "r1,r2,r3,r4 = calc(a,b)\n",
        "print(\"Addition is: \", r1)\n",
        "print(\"Sub is: \", r2)\n",
        "print(\"Multiplication is: \", r3)\n",
        "print(\"Division is: \", r4)"
      ]
    },
    {
      "cell_type": "code",
      "execution_count": null,
      "metadata": {
        "colab": {
          "base_uri": "https://localhost:8080/"
        },
        "id": "7n4akW-ccvCe",
        "outputId": "b9dd9016-024b-4d09-8f72-a396bc68220a"
      },
      "outputs": [
        {
          "name": "stdout",
          "output_type": "stream",
          "text": [
            "The sum=  30\n",
            "The sum=  100\n",
            "The sum=  150\n"
          ]
        }
      ],
      "source": [
        "def sum(*n):\n",
        "  total = 0\n",
        "  for n1 in n:\n",
        "    total=total + n1\n",
        "  print(\"The sum= \",total)\n",
        "sum(10,20)\n",
        "sum(10,20,30,40)\n",
        "sum(10,20,30,40,50)"
      ]
    },
    {
      "cell_type": "code",
      "execution_count": null,
      "metadata": {
        "colab": {
          "base_uri": "https://localhost:8080/"
        },
        "id": "oJRtBR2ccvEm",
        "outputId": "10eb39e1-4e84-4a2d-a7b8-3327ae0952b4"
      },
      "outputs": [
        {
          "name": "stdout",
          "output_type": "stream",
          "text": [
            "Enter the number: 2\n",
            "2\n"
          ]
        }
      ],
      "source": [
        "#Factorial using recursion\n",
        "def factorial(n):\n",
        "  if n==0 or n==1:\n",
        "    return 1\n",
        "  else:\n",
        "    return n*factorial(n-1)\n",
        "n=int(input(\"Enter the number: \"))\n",
        "print(factorial(n))\n"
      ]
    },
    {
      "cell_type": "code",
      "execution_count": null,
      "metadata": {
        "colab": {
          "base_uri": "https://localhost:8080/"
        },
        "id": "JWfuOgC2cvH4",
        "outputId": "130781bd-c8a6-4498-9411-850aeaa58c38"
      },
      "outputs": [
        {
          "name": "stdout",
          "output_type": "stream",
          "text": [
            "Enter the number: 2\n",
            "Enter the number: 5\n",
            "10\n"
          ]
        }
      ],
      "source": [
        "#multiplication using recursion\n",
        "def mul(a,b):\n",
        "  if b==1:\n",
        "    return a\n",
        "  elif a==0:\n",
        "    return b\n",
        "  elif a==0 or b==0:\n",
        "    return 0\n",
        "  else:\n",
        "    return a+mul(a,b-1)\n",
        "a=int(input(\"Enter the number: \"))\n",
        "b=int(input(\"Enter the number: \"))\n",
        "print(mul(a,b))"
      ]
    },
    {
      "cell_type": "code",
      "execution_count": null,
      "metadata": {
        "colab": {
          "base_uri": "https://localhost:8080/"
        },
        "id": "zlFCPfMJiZ7b",
        "outputId": "0d509916-66cc-4853-cb9c-629c13d1fe35"
      },
      "outputs": [
        {
          "name": "stdout",
          "output_type": "stream",
          "text": [
            "Square of 5 is  25\n"
          ]
        }
      ],
      "source": [
        "#Lambda Function\n",
        "def square(n):\n",
        "  return n*n\n",
        "  n:n*n\n",
        "print(\"Square of 5 is \", square(5))"
      ]
    },
    {
      "cell_type": "code",
      "execution_count": null,
      "metadata": {
        "colab": {
          "base_uri": "https://localhost:8080/"
        },
        "id": "56AYvAY6iZ-M",
        "outputId": "e1ad09da-6310-4466-bd64-f9e964f2d1cb"
      },
      "outputs": [
        {
          "name": "stdout",
          "output_type": "stream",
          "text": [
            "Enter the number: 11\n",
            "Enter the number: 31\n",
            "Addition is:  42\n"
          ]
        }
      ],
      "source": [
        "#Addition using lambda\n",
        "sum = lambda a,b:a+b\n",
        "\n",
        "n1 = int(input(\"Enter the number: \"))\n",
        "n2 = int(input(\"Enter the number: \"))\n",
        "print(\"Addition is: \", sum(n1,n2))"
      ]
    },
    {
      "cell_type": "code",
      "execution_count": null,
      "metadata": {
        "colab": {
          "base_uri": "https://localhost:8080/"
        },
        "id": "p7q5AHbfkSD8",
        "outputId": "e693e672-e6a8-4034-b0be-658c2f6adc40"
      },
      "outputs": [
        {
          "name": "stdout",
          "output_type": "stream",
          "text": [
            "Maximum number is:  20\n"
          ]
        }
      ],
      "source": [
        "m= lambda a,b: a if a>b else b\n",
        "print(\"Maximum number is: \",m(10,20))"
      ]
    },
    {
      "cell_type": "code",
      "execution_count": null,
      "metadata": {
        "colab": {
          "base_uri": "https://localhost:8080/"
        },
        "id": "lfo2VPqakSGo",
        "outputId": "463cc048-7ecf-4ba3-d3b7-57848ad7f2cc"
      },
      "outputs": [
        {
          "name": "stdout",
          "output_type": "stream",
          "text": [
            "[2, 3, 5, 6, 7]\n"
          ]
        }
      ],
      "source": [
        "#intersection of two arrays\n",
        "num1 = [1,2,3,4,5,6,7,8,9,10]\n",
        "num2 = [2,3,5,6,7,11,90]\n",
        "intersect=[]\n",
        "for i in num1:\n",
        "  if i in num2:\n",
        "    intersect.append(i)\n",
        "print(intersect)"
      ]
    },
    {
      "cell_type": "code",
      "execution_count": null,
      "metadata": {
        "colab": {
          "base_uri": "https://localhost:8080/"
        },
        "id": "tBdOCMW2kSKJ",
        "outputId": "2bc19b97-b73e-4960-edb4-3101d2271cc1"
      },
      "outputs": [
        {
          "name": "stdout",
          "output_type": "stream",
          "text": [
            "[1, 4, 8, 9, 10]\n",
            "[11, 90]\n"
          ]
        }
      ],
      "source": [
        "#difference of two arrays\n",
        "num1 = [1,2,3,4,5,6,7,8,9,10]\n",
        "num2 = [2,3,5,6,7,11,90]\n",
        "intersect=[]\n",
        "dif1=[]\n",
        "dif2=[]\n",
        "for i in num1:\n",
        "  if i not in num2:\n",
        "    intersect.append(i)\n",
        "print(intersect)\n",
        "for k in num2:\n",
        "  if k not in num1:\n",
        "    dif2.append(k)\n",
        "print(dif2)"
      ]
    },
    {
      "cell_type": "code",
      "execution_count": null,
      "metadata": {
        "colab": {
          "base_uri": "https://localhost:8080/"
        },
        "id": "yVGX_b8EiaBu",
        "outputId": "54eed6d9-1dcb-44ba-974d-6eca96207855"
      },
      "outputs": [
        {
          "name": "stdout",
          "output_type": "stream",
          "text": [
            "Enter number of steps: 3\n",
            "[8, 9, 10, 1, 2, 3, 4, 5, 6, 7]\n"
          ]
        }
      ],
      "source": [
        "#Array Rotation\n",
        "arr1 = [1,2,3,4,5,6,7,8,9,10]\n",
        "temp=[]\n",
        "steps = int(input(\"Enter number of steps: \"))\n",
        "for i in range(1,steps+1):\n",
        "  n = arr1.pop()\n",
        "  arr1.insert(0,n)\n",
        "print(arr1)\n"
      ]
    },
    {
      "cell_type": "code",
      "execution_count": null,
      "metadata": {
        "colab": {
          "base_uri": "https://localhost:8080/"
        },
        "id": "WYi8kMjxGKs6",
        "outputId": "07d66362-404a-450e-a0a0-311236bdf613"
      },
      "outputs": [
        {
          "name": "stdout",
          "output_type": "stream",
          "text": [
            "Positive numbers: [10, 30, 50]\n",
            "Negative numbers: [-20, -40]\n",
            "Resulting array: [10, -20, 30, -40, 50]\n"
          ]
        }
      ],
      "source": [
        "arr = [10, -20, -40, 30, 50]\n",
        "pos = []\n",
        "neg = []\n",
        "\n",
        "for i in arr:\n",
        "    if i < 0:\n",
        "        neg.append(i)\n",
        "    else:\n",
        "        pos.append(i)\n",
        "\n",
        "print(\"Positive numbers:\", pos)\n",
        "print(\"Negative numbers:\", neg)\n",
        "\n",
        "result = []\n",
        "i, j = 0, 0\n",
        "while i < len(pos) and j < len(neg):\n",
        "    result.append(pos[i])\n",
        "    result.append(neg[j])\n",
        "    i += 1\n",
        "    j += 1\n",
        "\n",
        "\n",
        "while i < len(pos):\n",
        "    result.append(pos[i])\n",
        "    i += 1\n",
        "\n",
        "while j < len(neg):\n",
        "    result.append(neg[j])\n",
        "    j += 1\n",
        "\n",
        "print(\"Resulting array:\", result)\n"
      ]
    },
    {
      "cell_type": "code",
      "execution_count": null,
      "metadata": {
        "colab": {
          "base_uri": "https://localhost:8080/"
        },
        "id": "F9Rg7H2YGK7o",
        "outputId": "c8e63b7e-3525-440d-a97f-2a7130c5af2d"
      },
      "outputs": [
        {
          "name": "stdout",
          "output_type": "stream",
          "text": [
            "Enter the number: 2\n",
            "Enter the number till which we want the series: 2\n",
            "5.0\n"
          ]
        }
      ],
      "source": [
        "x=int(input(\"Enter the number: \"))\n",
        "n=int(input(\"Enter the number till which we want the series: \"))\n",
        "sum=1;\n",
        "for i in range(1,n+1):\n",
        "  sum=sum+ (x**i)/i\n",
        "print(sum)\n",
        "\n"
      ]
    },
    {
      "cell_type": "code",
      "execution_count": null,
      "metadata": {
        "colab": {
          "base_uri": "https://localhost:8080/"
        },
        "id": "9YWdhc2pGLEP",
        "outputId": "7f155d16-2fcb-442f-da59-1c6fd5ca379d"
      },
      "outputs": [
        {
          "name": "stdout",
          "output_type": "stream",
          "text": [
            "Enter the number: 2\n",
            "Enter the number till which we want the series: 3\n",
            "7.666666666666666\n"
          ]
        }
      ],
      "source": [
        "x=int(input(\"Enter the number: \"))\n",
        "n=int(input(\"Enter the number till which we want the series: \"))\n",
        "sum=1;\n",
        "fact=1;\n",
        "for i in range(1,n+1):\n",
        "  fact=fact*i\n",
        "  sum=sum+ (x**i)/i\n",
        "print(sum)\n",
        "\n"
      ]
    },
    {
      "cell_type": "code",
      "execution_count": null,
      "metadata": {
        "colab": {
          "background_save": true,
          "base_uri": "https://localhost:8080/"
        },
        "id": "iHlGtWNIQb9g",
        "outputId": "c917b9b4-d14a-49bf-86b5-34d52c67b893"
      },
      "outputs": [
        {
          "ename": "SyntaxError",
          "evalue": "incomplete input (<ipython-input-15-a8eb930a55c8>, line 5)",
          "output_type": "error",
          "traceback": [
            "\u001b[0;36m  File \u001b[0;32m\"<ipython-input-15-a8eb930a55c8>\"\u001b[0;36m, line \u001b[0;32m5\u001b[0m\n\u001b[0;31m    \u001b[0m\n\u001b[0m    ^\u001b[0m\n\u001b[0;31mSyntaxError\u001b[0m\u001b[0;31m:\u001b[0m incomplete input\n"
          ]
        }
      ],
      "source": [
        "arr = [-1,1,-2,0,3]\n",
        "arr.sort()\n",
        "print(arr)\n",
        "for i in range"
      ]
    }
  ],
  "metadata": {
    "colab": {
      "provenance": [],
      "authorship_tag": "ABX9TyMBoi7L1+bqc+wPGLTxZfjg"
    },
    "kernelspec": {
      "display_name": "Python 3",
      "name": "python3"
    },
    "language_info": {
      "name": "python"
    }
  },
  "nbformat": 4,
  "nbformat_minor": 0
}