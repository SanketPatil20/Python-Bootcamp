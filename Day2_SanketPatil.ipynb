{
  "nbformat": 4,
  "nbformat_minor": 0,
  "metadata": {
    "colab": {
      "provenance": [],
      "authorship_tag": "ABX9TyOTejygf98SM1odhexQaYgK"
    },
    "kernelspec": {
      "name": "python3",
      "display_name": "Python 3"
    },
    "language_info": {
      "name": "python"
    }
  },
  "cells": [
    {
      "cell_type": "code",
      "execution_count": null,
      "metadata": {
        "colab": {
          "base_uri": "https://localhost:8080/"
        },
        "id": "VlIqi-hdHQrO",
        "outputId": "80031383-1fd1-43fb-a7ad-03b296d385c6"
      },
      "outputs": [
        {
          "output_type": "stream",
          "name": "stdout",
          "text": [
            "1\n",
            "2\n",
            "3\n",
            "4\n",
            "6\n",
            "7\n",
            "8\n",
            "9\n",
            "10\n"
          ]
        }
      ],
      "source": [
        "for i in range(1,11):\n",
        "  if i ==5:\n",
        "    continue;\n",
        "  print(i)"
      ]
    },
    {
      "cell_type": "code",
      "source": [
        "j=10\n",
        "for i in range(1,6):\n",
        "  if i==3 and j== 8:\n",
        "    continue;\n",
        "  print(i,\"\\t\",j)\n",
        "  j=j-1"
      ],
      "metadata": {
        "colab": {
          "base_uri": "https://localhost:8080/"
        },
        "id": "Uw78ZOKoHlEA",
        "outputId": "33ccc73f-b93a-48a0-d8ef-424ebcbfc9d9"
      },
      "execution_count": null,
      "outputs": [
        {
          "output_type": "stream",
          "name": "stdout",
          "text": [
            "1 \t 10\n",
            "2 \t 9\n",
            "4 \t 8\n",
            "5 \t 7\n"
          ]
        }
      ]
    },
    {
      "cell_type": "code",
      "source": [
        "for x in range(1,5):\n",
        "  for y in range(1,5):\n",
        "      print(y,end=\" \")\n",
        "  print()"
      ],
      "metadata": {
        "colab": {
          "base_uri": "https://localhost:8080/"
        },
        "id": "xGgTXoP3HlMZ",
        "outputId": "6877be77-dd79-4c6a-e99c-c055c58b71aa"
      },
      "execution_count": null,
      "outputs": [
        {
          "output_type": "stream",
          "name": "stdout",
          "text": [
            "1 2 3 4 \n",
            "1 2 3 4 \n",
            "1 2 3 4 \n",
            "1 2 3 4 \n"
          ]
        }
      ]
    },
    {
      "cell_type": "code",
      "source": [
        "for x in range(1,5):\n",
        "  for y in range(1,5):\n",
        "      print(x,end=\" \")\n",
        "  print()"
      ],
      "metadata": {
        "colab": {
          "base_uri": "https://localhost:8080/"
        },
        "id": "92bM4kF1HlXv",
        "outputId": "21796fa8-547a-45d7-f29e-e5f76aa9c9de"
      },
      "execution_count": null,
      "outputs": [
        {
          "output_type": "stream",
          "name": "stdout",
          "text": [
            "1 1 1 1 \n",
            "2 2 2 2 \n",
            "3 3 3 3 \n",
            "4 4 4 4 \n"
          ]
        }
      ]
    },
    {
      "cell_type": "code",
      "source": [
        "n=1\n",
        "for i in range(1,5):\n",
        "  for j in range(1,5):\n",
        "    print(n,end=\" \")\n",
        "    n=n+1\n",
        "  print()"
      ],
      "metadata": {
        "colab": {
          "base_uri": "https://localhost:8080/"
        },
        "id": "a4nfagA_HlhZ",
        "outputId": "4beb9a0e-760d-4324-c51c-12d51dcbe3f7"
      },
      "execution_count": null,
      "outputs": [
        {
          "output_type": "stream",
          "name": "stdout",
          "text": [
            "1 2 3 4 \n",
            "5 6 7 8 \n",
            "9 10 11 12 \n",
            "13 14 15 16 \n"
          ]
        }
      ]
    },
    {
      "cell_type": "code",
      "source": [
        "n=65\n",
        "for i in range(1,5):\n",
        "  for j in range(1,5):\n",
        "    print(chr(n),end=\" \")\n",
        "    n=n+1\n",
        "  print()"
      ],
      "metadata": {
        "colab": {
          "base_uri": "https://localhost:8080/"
        },
        "id": "wglUEKKfHlqk",
        "outputId": "904ddade-978f-48ff-d235-be95fc4e5762"
      },
      "execution_count": null,
      "outputs": [
        {
          "output_type": "stream",
          "name": "stdout",
          "text": [
            "A B C D \n",
            "E F G H \n",
            "I J K L \n",
            "M N O P \n"
          ]
        }
      ]
    },
    {
      "cell_type": "code",
      "source": [
        "for x in range(1,5):\n",
        "  for y in range(1,x+1):\n",
        "      print(x,end=\" \")\n",
        "  print()"
      ],
      "metadata": {
        "colab": {
          "base_uri": "https://localhost:8080/"
        },
        "id": "HNwUrsVnMsHd",
        "outputId": "1f8b62ce-006f-42f4-f7a2-1d564f66c45f"
      },
      "execution_count": null,
      "outputs": [
        {
          "output_type": "stream",
          "name": "stdout",
          "text": [
            "1 \n",
            "2 2 \n",
            "3 3 3 \n",
            "4 4 4 4 \n"
          ]
        }
      ]
    },
    {
      "cell_type": "code",
      "source": [
        "for x in range(1,5):\n",
        "  for y in range(1,x+1):\n",
        "      print(\"*\",end=\" \")\n",
        "  print()"
      ],
      "metadata": {
        "colab": {
          "base_uri": "https://localhost:8080/"
        },
        "id": "UUDq-POLMsKN",
        "outputId": "df0af29e-81a4-467a-ac56-6848d63615b6"
      },
      "execution_count": null,
      "outputs": [
        {
          "output_type": "stream",
          "name": "stdout",
          "text": [
            "* \n",
            "* * \n",
            "* * * \n",
            "* * * * \n"
          ]
        }
      ]
    },
    {
      "cell_type": "code",
      "source": [
        "for x in range(4,0,-1):\n",
        "  for y in range(1,x+1):\n",
        "      print(\"*\",end=\" \")\n",
        "  print()"
      ],
      "metadata": {
        "colab": {
          "base_uri": "https://localhost:8080/"
        },
        "id": "CTxBbmtdMsM5",
        "outputId": "d2405cf9-31a0-4d34-f0fb-ba0c9523aa79"
      },
      "execution_count": null,
      "outputs": [
        {
          "output_type": "stream",
          "name": "stdout",
          "text": [
            "* * * * \n",
            "* * * \n",
            "* * \n",
            "* \n"
          ]
        }
      ]
    },
    {
      "cell_type": "code",
      "source": [
        "sp=5\n",
        "for i in range(1,5):\n",
        "  for k in range(sp):\n",
        "    print(\" \",end=\"\")\n",
        "  for j in range(1,i+1):\n",
        "    print(\"*\",end=\"\")\n",
        "  print()\n",
        "  sp=sp-1"
      ],
      "metadata": {
        "colab": {
          "base_uri": "https://localhost:8080/"
        },
        "id": "0QWiJQEwMsO3",
        "outputId": "cfea6aed-7550-49c2-ff09-7a289e8d7e03"
      },
      "execution_count": null,
      "outputs": [
        {
          "output_type": "stream",
          "name": "stdout",
          "text": [
            "     *\n",
            "    **\n",
            "   ***\n",
            "  ****\n"
          ]
        }
      ]
    },
    {
      "cell_type": "code",
      "source": [
        "a=10\n",
        "print(a)\n",
        "dela\n",
        "print(a)"
      ],
      "metadata": {
        "colab": {
          "base_uri": "https://localhost:8080/",
          "height": 211
        },
        "id": "HXb4leoIMsSd",
        "outputId": "384e6e2e-5580-4524-864c-dd9679748ab3"
      },
      "execution_count": null,
      "outputs": [
        {
          "output_type": "stream",
          "name": "stdout",
          "text": [
            "10\n"
          ]
        },
        {
          "output_type": "error",
          "ename": "NameError",
          "evalue": "name 'dela' is not defined",
          "traceback": [
            "\u001b[0;31m---------------------------------------------------------------------------\u001b[0m",
            "\u001b[0;31mNameError\u001b[0m                                 Traceback (most recent call last)",
            "\u001b[0;32m<ipython-input-37-71aa21c8be1b>\u001b[0m in \u001b[0;36m<cell line: 3>\u001b[0;34m()\u001b[0m\n\u001b[1;32m      1\u001b[0m \u001b[0ma\u001b[0m\u001b[0;34m=\u001b[0m\u001b[0;36m10\u001b[0m\u001b[0;34m\u001b[0m\u001b[0;34m\u001b[0m\u001b[0m\n\u001b[1;32m      2\u001b[0m \u001b[0mprint\u001b[0m\u001b[0;34m(\u001b[0m\u001b[0ma\u001b[0m\u001b[0;34m)\u001b[0m\u001b[0;34m\u001b[0m\u001b[0;34m\u001b[0m\u001b[0m\n\u001b[0;32m----> 3\u001b[0;31m \u001b[0mdela\u001b[0m\u001b[0;34m\u001b[0m\u001b[0;34m\u001b[0m\u001b[0m\n\u001b[0m\u001b[1;32m      4\u001b[0m \u001b[0mprint\u001b[0m\u001b[0;34m(\u001b[0m\u001b[0ma\u001b[0m\u001b[0;34m)\u001b[0m\u001b[0;34m\u001b[0m\u001b[0;34m\u001b[0m\u001b[0m\n",
            "\u001b[0;31mNameError\u001b[0m: name 'dela' is not defined"
          ]
        }
      ]
    },
    {
      "cell_type": "code",
      "source": [
        "#find() rfind()\n",
        "\n",
        "S=\"Learning Python is very easy from Ashish Sir\"\n",
        "print(S.find(\"Python\")) #9\n",
        "print(S.find(\"Java\")) # -1\n",
        "print(S.find(\"r\"))#3\n",
        "print(S.rfind(\"r\"))#43\n"
      ],
      "metadata": {
        "colab": {
          "base_uri": "https://localhost:8080/"
        },
        "id": "cZS0Wm0hTGOw",
        "outputId": "33d4ee0f-eb82-480f-de70-25e4abd83074"
      },
      "execution_count": null,
      "outputs": [
        {
          "output_type": "stream",
          "name": "stdout",
          "text": [
            "9\n",
            "-1\n",
            "3\n",
            "43\n"
          ]
        }
      ]
    },
    {
      "cell_type": "code",
      "source": [
        "s=\"abcabcabcabcadda\"\n",
        "print(s.count('a'))\n",
        "print(s.count('ab'))\n",
        "print(s.count('a',3,10))"
      ],
      "metadata": {
        "colab": {
          "base_uri": "https://localhost:8080/"
        },
        "id": "OASwMku1TGQ0",
        "outputId": "dd780857-0882-4e38-fddd-e1739cf7f3ba"
      },
      "execution_count": null,
      "outputs": [
        {
          "output_type": "stream",
          "name": "stdout",
          "text": [
            "6\n",
            "4\n",
            "3\n"
          ]
        }
      ]
    },
    {
      "cell_type": "code",
      "source": [
        "s=\"abababababa\"\n",
        "s1 = s.replace(\"a\",\"b\")\n",
        "print(s1)"
      ],
      "metadata": {
        "colab": {
          "base_uri": "https://localhost:8080/"
        },
        "id": "FqEk-Xq1TGTL",
        "outputId": "3c73487f-d517-453e-bb55-c55746046af5"
      },
      "execution_count": null,
      "outputs": [
        {
          "output_type": "stream",
          "name": "stdout",
          "text": [
            "bbbbbbbbbbb\n"
          ]
        }
      ]
    },
    {
      "cell_type": "code",
      "source": [
        "a=10\n",
        "print(id(a))\n",
        "b=10\n",
        "print(id(b))"
      ],
      "metadata": {
        "colab": {
          "base_uri": "https://localhost:8080/"
        },
        "id": "KsFeQH4ETGWi",
        "outputId": "46254401-525c-421e-db22-6614e4c24e4d"
      },
      "execution_count": null,
      "outputs": [
        {
          "output_type": "stream",
          "name": "stdout",
          "text": [
            "132885938569744\n",
            "132885938569744\n"
          ]
        }
      ]
    },
    {
      "cell_type": "code",
      "source": [
        "s=\"Learning Python is very easy from Ashish Sir\"\n",
        "s1=s.split()\n",
        "print(s1)\n",
        "print(type(s1))\n",
        "for x in s1:\n",
        "  print(x)"
      ],
      "metadata": {
        "colab": {
          "base_uri": "https://localhost:8080/"
        },
        "id": "3WrNlE8OTGgC",
        "outputId": "b2952b38-0c95-4eb3-ee13-35609b464d05"
      },
      "execution_count": null,
      "outputs": [
        {
          "output_type": "stream",
          "name": "stdout",
          "text": [
            "['Learning', 'Python', 'is', 'very', 'easy', 'from', 'Ashish', 'Sir']\n",
            "<class 'list'>\n",
            "Learning\n",
            "Python\n",
            "is\n",
            "very\n",
            "easy\n",
            "from\n",
            "Ashish\n",
            "Sir\n"
          ]
        }
      ]
    },
    {
      "cell_type": "code",
      "source": [
        "u=\"22#02#2022\"\n",
        "l=u.split(\"#\")\n",
        "print(l)\n",
        "print(type(l))\n",
        "for x in l:\n",
        "  print(x)"
      ],
      "metadata": {
        "colab": {
          "base_uri": "https://localhost:8080/"
        },
        "id": "uhAwbubnYkRs",
        "outputId": "282bb4a6-0d4d-4890-c533-bc892459149d"
      },
      "execution_count": null,
      "outputs": [
        {
          "output_type": "stream",
          "name": "stdout",
          "text": [
            "['22', '02', '2022']\n",
            "<class 'list'>\n",
            "22\n",
            "02\n",
            "2022\n"
          ]
        }
      ]
    },
    {
      "cell_type": "code",
      "source": [
        "city = [\"pune\",\"shirpur\",\"mumbai\"]\n",
        "s=\": \".join(city)\n",
        "print(s)"
      ],
      "metadata": {
        "colab": {
          "base_uri": "https://localhost:8080/"
        },
        "id": "36R9-l57YkUM",
        "outputId": "0f16403c-42f2-4af2-ede6-67683d098ea8"
      },
      "execution_count": null,
      "outputs": [
        {
          "output_type": "stream",
          "name": "stdout",
          "text": [
            "pune: shirpur: mumbai\n"
          ]
        }
      ]
    },
    {
      "cell_type": "code",
      "source": [
        "S='learning Python is very Easy from Ashish sir'\n",
        "print(s.startswith('learning'))\n",
        "print(s.endswith('learning'))\n",
        "print(s.endswith('sir'))"
      ],
      "metadata": {
        "colab": {
          "base_uri": "https://localhost:8080/"
        },
        "id": "xTitvUYKYkW5",
        "outputId": "5cbc3773-6402-4068-aac1-9e54d475a50f"
      },
      "execution_count": null,
      "outputs": [
        {
          "output_type": "stream",
          "name": "stdout",
          "text": [
            "False\n",
            "False\n",
            "False\n"
          ]
        }
      ]
    },
    {
      "cell_type": "code",
      "source": [
        "num = input(\"Enter mobile number: \")\n",
        "if len(num) == 10 and num.isdigit() and (num.startswith(\"9\") or num.startswith(\"8\") or num.startswith(\"7\")):\n",
        "  print(\"Valid number\")\n",
        "else:\n",
        "  print(\"Invalid number\")"
      ],
      "metadata": {
        "colab": {
          "base_uri": "https://localhost:8080/"
        },
        "id": "MnK4BKyiYkY_",
        "outputId": "d8636148-499b-428b-c3e2-2705660c0a17"
      },
      "execution_count": null,
      "outputs": [
        {
          "output_type": "stream",
          "name": "stdout",
          "text": [
            "Enter mobile number: 4569658745\n",
            "Invalid number\n"
          ]
        }
      ]
    },
    {
      "cell_type": "code",
      "source": [
        "#reverse string without function\n",
        "s=\"Ashish\"\n",
        "# print(s[::-1])\n",
        "\n",
        "rev=\"\"\n",
        "for x in s:\n",
        "  rev=x + rev\n",
        "print(rev)"
      ],
      "metadata": {
        "colab": {
          "base_uri": "https://localhost:8080/"
        },
        "id": "o8TKMr1gYkbc",
        "outputId": "da0ef035-5f10-4271-ba8b-c8ce240cf839"
      },
      "execution_count": null,
      "outputs": [
        {
          "output_type": "stream",
          "name": "stdout",
          "text": [
            "hsihsA\n"
          ]
        }
      ]
    },
    {
      "cell_type": "code",
      "source": [
        "# Program to reverse order of words\n",
        "s=\"Learning Python is very Easy from Ashish Sir\"\n",
        "l=s.split()\n",
        "print(l)\n",
        "rev=\"\"\n",
        "for x in l:\n",
        "  rev=x + \" \" + rev\n",
        "print(rev)"
      ],
      "metadata": {
        "colab": {
          "base_uri": "https://localhost:8080/"
        },
        "id": "5gLNST_jYkfD",
        "outputId": "08dc17d1-3cd6-4f96-e798-3149b4740ad3"
      },
      "execution_count": null,
      "outputs": [
        {
          "output_type": "stream",
          "name": "stdout",
          "text": [
            "['Learning', 'Python', 'is', 'very', 'Easy', 'from', 'Ashish', 'Sir']\n",
            "Sir Ashish from Easy very is Python Learning \n"
          ]
        }
      ]
    },
    {
      "cell_type": "code",
      "source": [
        "s=input (\"Enter Some String: \")\n",
        "l=s.split()\n",
        "p1=[]\n",
        "i=len(l)-1\n",
        "while i>=0:\n",
        "  p1.append (l[i])\n",
        "  i=i-1\n",
        "  output=' '.join(p1)\n",
        "print(output)"
      ],
      "metadata": {
        "colab": {
          "base_uri": "https://localhost:8080/"
        },
        "id": "TeoNJ7fTgfxF",
        "outputId": "4894b121-30e5-47f5-f5ce-2a0065d3e5d1"
      },
      "execution_count": null,
      "outputs": [
        {
          "output_type": "stream",
          "name": "stdout",
          "text": [
            "Enter Some String: san kdj ury\n",
            "ury kdj san\n"
          ]
        }
      ]
    },
    {
      "cell_type": "code",
      "source": [
        "l1=[]\n",
        "l1.append(22)\n",
        "l1. append(2.5)\n",
        "l1. append(\"Ashish\")\n",
        "l1.append(43543)\n",
        "print(l1)\n",
        "l1.insert(2,\"Raj\")\n",
        "print(l1)"
      ],
      "metadata": {
        "colab": {
          "base_uri": "https://localhost:8080/"
        },
        "id": "NJ6lGiSKggAf",
        "outputId": "b910cef5-ce36-4bf9-cd59-7ccbe9c3519f"
      },
      "execution_count": null,
      "outputs": [
        {
          "output_type": "stream",
          "name": "stdout",
          "text": [
            "[22, 2.5, 'Ashish', 43543]\n",
            "[22, 2.5, 'Raj', 'Ashish', 43543]\n"
          ]
        }
      ]
    },
    {
      "cell_type": "code",
      "source": [
        "n =[10,20,30,40,50]\n",
        "n.remove(10)\n",
        "print(n)\n",
        "n.pop()\n",
        "print(n)"
      ],
      "metadata": {
        "colab": {
          "base_uri": "https://localhost:8080/"
        },
        "id": "jStk5S5toPIW",
        "outputId": "7092c16f-63bd-40f5-972e-4f1dda12618a"
      },
      "execution_count": null,
      "outputs": [
        {
          "output_type": "stream",
          "name": "stdout",
          "text": [
            "[20, 30, 40, 50]\n",
            "[20, 30, 40]\n",
            "[20, 30]\n"
          ]
        }
      ]
    },
    {
      "cell_type": "code",
      "source": [
        "n = [10,20,30,[23,33,43]]\n",
        "print(n[3][1])\n"
      ],
      "metadata": {
        "id": "Lf9bPhqimX3M",
        "colab": {
          "base_uri": "https://localhost:8080/"
        },
        "outputId": "6977308d-b384-4fee-9c4d-52ea52601195"
      },
      "execution_count": null,
      "outputs": [
        {
          "output_type": "stream",
          "name": "stdout",
          "text": [
            "33\n"
          ]
        }
      ]
    },
    {
      "cell_type": "code",
      "source": [
        "n=[[10,20,30],[40,50,60],[70,80,90]]\n",
        "print(n)\n",
        "for x in n:\n",
        "  print(x)\n",
        "for i in range(len(n)):\n",
        "  for j in range(len(n[i])):\n",
        "    print(n[i][j],end=\" \")\n",
        "  print()"
      ],
      "metadata": {
        "colab": {
          "base_uri": "https://localhost:8080/"
        },
        "id": "Igr_-tyy9ghx",
        "outputId": "01a5edbd-41d5-4ab1-e067-ae60c47415f7"
      },
      "execution_count": null,
      "outputs": [
        {
          "output_type": "stream",
          "name": "stdout",
          "text": [
            "[[10, 20, 30], [40, 50, 60], [70, 80, 90]]\n",
            "[10, 20, 30]\n",
            "[40, 50, 60]\n",
            "[70, 80, 90]\n",
            "10 20 30 \n",
            "40 50 60 \n",
            "70 80 90 \n"
          ]
        }
      ]
    },
    {
      "cell_type": "code",
      "source": [
        "sem = int(input(\"Enter the number of semesters: \"))\n",
        "sub = int(input(\"Enter the number of subjects: \"))\n",
        "\n",
        "for i in range(sem):\n",
        "    print(f\"Enter the marks for semester {i + 1}:\")\n",
        "    marks = []  # Initialize marks list for each semester\n",
        "    for j in range(sub):\n",
        "        mark = int(input(\"Enter the marks: \"))\n",
        "        marks.append(mark)  # Append marks to the correct list\n",
        "\n",
        "    max_marks = max(marks)  # Find the maximum marks\n",
        "    print(f\"Maximum marks in semester {i + 1}: {max_marks}\")"
      ],
      "metadata": {
        "colab": {
          "base_uri": "https://localhost:8080/"
        },
        "id": "W1FMds8L9gj5",
        "outputId": "3b278360-22c0-46e4-b1a7-0f719424d139"
      },
      "execution_count": null,
      "outputs": [
        {
          "output_type": "stream",
          "name": "stdout",
          "text": [
            "Enter the number of semesters: 2\n",
            "Enter the number of subjects: 2\n",
            "Enter the marks for semester 1:\n",
            "Enter the marks: 65\n",
            "Enter the marks: 87\n",
            "Maximum marks in semester 1: 87\n",
            "Enter the marks for semester 2:\n",
            "Enter the marks: 89\n",
            "Enter the marks: 67\n",
            "Maximum marks in semester 2: 89\n"
          ]
        }
      ]
    },
    {
      "cell_type": "code",
      "source": [],
      "metadata": {
        "colab": {
          "base_uri": "https://localhost:8080/",
          "height": 529
        },
        "id": "pgUjaGpQ9gmn",
        "outputId": "d1cf1245-d777-416e-ec96-86afb33d8a9b"
      },
      "execution_count": null,
      "outputs": [
        {
          "output_type": "stream",
          "name": "stdout",
          "text": [
            "Enter the number of semesters: 3\n",
            "Enter the number of subjects: 4\n",
            "Semester 1:\n",
            "Enter score for subject 1: 20\n",
            "Enter score for subject 2: 50\n",
            "Enter score for subject 3: 30\n",
            "Enter score for subject 4: 90\n",
            "Maximum score in semester 1: 90\n",
            "Semester 2:\n"
          ]
        },
        {
          "output_type": "error",
          "ename": "KeyboardInterrupt",
          "evalue": "Interrupted by user",
          "traceback": [
            "\u001b[0;31m---------------------------------------------------------------------------\u001b[0m",
            "\u001b[0;31mKeyboardInterrupt\u001b[0m                         Traceback (most recent call last)",
            "\u001b[0;32m<ipython-input-7-8ef0b3ee78c1>\u001b[0m in \u001b[0;36m<cell line: 6>\u001b[0;34m()\u001b[0m\n\u001b[1;32m      8\u001b[0m   \u001b[0mprint\u001b[0m\u001b[0;34m(\u001b[0m\u001b[0;34mf\"Semester {i+1}:\"\u001b[0m\u001b[0;34m)\u001b[0m\u001b[0;34m\u001b[0m\u001b[0;34m\u001b[0m\u001b[0m\n\u001b[1;32m      9\u001b[0m   \u001b[0;32mfor\u001b[0m \u001b[0mj\u001b[0m \u001b[0;32min\u001b[0m \u001b[0mrange\u001b[0m\u001b[0;34m(\u001b[0m\u001b[0msub\u001b[0m\u001b[0;34m)\u001b[0m\u001b[0;34m:\u001b[0m\u001b[0;34m\u001b[0m\u001b[0;34m\u001b[0m\u001b[0m\n\u001b[0;32m---> 10\u001b[0;31m     \u001b[0mscore\u001b[0m \u001b[0;34m=\u001b[0m \u001b[0mint\u001b[0m\u001b[0;34m(\u001b[0m\u001b[0minput\u001b[0m\u001b[0;34m(\u001b[0m\u001b[0;34mf\"Enter score for subject {j+1}: \"\u001b[0m\u001b[0;34m)\u001b[0m\u001b[0;34m)\u001b[0m\u001b[0;34m\u001b[0m\u001b[0;34m\u001b[0m\u001b[0m\n\u001b[0m\u001b[1;32m     11\u001b[0m     \u001b[0;32mif\u001b[0m \u001b[0mscore\u001b[0m \u001b[0;34m>\u001b[0m \u001b[0mmax_score\u001b[0m\u001b[0;34m:\u001b[0m\u001b[0;34m\u001b[0m\u001b[0;34m\u001b[0m\u001b[0m\n\u001b[1;32m     12\u001b[0m       \u001b[0mmax_score\u001b[0m \u001b[0;34m=\u001b[0m \u001b[0mscore\u001b[0m\u001b[0;34m\u001b[0m\u001b[0;34m\u001b[0m\u001b[0m\n",
            "\u001b[0;32m/usr/local/lib/python3.10/dist-packages/ipykernel/kernelbase.py\u001b[0m in \u001b[0;36mraw_input\u001b[0;34m(self, prompt)\u001b[0m\n\u001b[1;32m    849\u001b[0m                 \u001b[0;34m\"raw_input was called, but this frontend does not support input requests.\"\u001b[0m\u001b[0;34m\u001b[0m\u001b[0;34m\u001b[0m\u001b[0m\n\u001b[1;32m    850\u001b[0m             )\n\u001b[0;32m--> 851\u001b[0;31m         return self._input_request(str(prompt),\n\u001b[0m\u001b[1;32m    852\u001b[0m             \u001b[0mself\u001b[0m\u001b[0;34m.\u001b[0m\u001b[0m_parent_ident\u001b[0m\u001b[0;34m,\u001b[0m\u001b[0;34m\u001b[0m\u001b[0;34m\u001b[0m\u001b[0m\n\u001b[1;32m    853\u001b[0m             \u001b[0mself\u001b[0m\u001b[0;34m.\u001b[0m\u001b[0m_parent_header\u001b[0m\u001b[0;34m,\u001b[0m\u001b[0;34m\u001b[0m\u001b[0;34m\u001b[0m\u001b[0m\n",
            "\u001b[0;32m/usr/local/lib/python3.10/dist-packages/ipykernel/kernelbase.py\u001b[0m in \u001b[0;36m_input_request\u001b[0;34m(self, prompt, ident, parent, password)\u001b[0m\n\u001b[1;32m    893\u001b[0m             \u001b[0;32mexcept\u001b[0m \u001b[0mKeyboardInterrupt\u001b[0m\u001b[0;34m:\u001b[0m\u001b[0;34m\u001b[0m\u001b[0;34m\u001b[0m\u001b[0m\n\u001b[1;32m    894\u001b[0m                 \u001b[0;31m# re-raise KeyboardInterrupt, to truncate traceback\u001b[0m\u001b[0;34m\u001b[0m\u001b[0;34m\u001b[0m\u001b[0m\n\u001b[0;32m--> 895\u001b[0;31m                 \u001b[0;32mraise\u001b[0m \u001b[0mKeyboardInterrupt\u001b[0m\u001b[0;34m(\u001b[0m\u001b[0;34m\"Interrupted by user\"\u001b[0m\u001b[0;34m)\u001b[0m \u001b[0;32mfrom\u001b[0m \u001b[0;32mNone\u001b[0m\u001b[0;34m\u001b[0m\u001b[0;34m\u001b[0m\u001b[0m\n\u001b[0m\u001b[1;32m    896\u001b[0m             \u001b[0;32mexcept\u001b[0m \u001b[0mException\u001b[0m \u001b[0;32mas\u001b[0m \u001b[0me\u001b[0m\u001b[0;34m:\u001b[0m\u001b[0;34m\u001b[0m\u001b[0;34m\u001b[0m\u001b[0m\n\u001b[1;32m    897\u001b[0m                 \u001b[0mself\u001b[0m\u001b[0;34m.\u001b[0m\u001b[0mlog\u001b[0m\u001b[0;34m.\u001b[0m\u001b[0mwarning\u001b[0m\u001b[0;34m(\u001b[0m\u001b[0;34m\"Invalid Message:\"\u001b[0m\u001b[0;34m,\u001b[0m \u001b[0mexc_info\u001b[0m\u001b[0;34m=\u001b[0m\u001b[0;32mTrue\u001b[0m\u001b[0;34m)\u001b[0m\u001b[0;34m\u001b[0m\u001b[0;34m\u001b[0m\u001b[0m\n",
            "\u001b[0;31mKeyboardInterrupt\u001b[0m: Interrupted by user"
          ]
        }
      ]
    },
    {
      "cell_type": "code",
      "source": [
        "s= {10,20,30}\n",
        "s.add(40)\n",
        "print(s)"
      ],
      "metadata": {
        "colab": {
          "base_uri": "https://localhost:8080/"
        },
        "id": "ILdyaPd_9gps",
        "outputId": "7c431e96-2e52-488a-a3d5-5531803fcdaf"
      },
      "execution_count": null,
      "outputs": [
        {
          "output_type": "stream",
          "name": "stdout",
          "text": [
            "{40, 10, 20, 30}\n"
          ]
        }
      ]
    },
    {
      "cell_type": "code",
      "source": [
        "#remove duplicate elements from the list\n",
        "l={10,20,50,40,60,90,80,30,20,10}\n",
        "# print(l)\n",
        "l1=list(l)\n",
        "print(l1)"
      ],
      "metadata": {
        "colab": {
          "base_uri": "https://localhost:8080/"
        },
        "id": "nR2QccDK9gtT",
        "outputId": "ddca0bdf-8a74-46e2-c5c7-1ca30dcc97d2"
      },
      "execution_count": null,
      "outputs": [
        {
          "output_type": "stream",
          "name": "stdout",
          "text": [
            "[40, 10, 80, 50, 20, 90, 60, 30]\n"
          ]
        }
      ]
    },
    {
      "cell_type": "code",
      "source": [
        "d={100:\"Sanket\",200:\"Himanshu\",300:\"Ashish\"}\n",
        "print(d)\n",
        "d[400]=\"Raj\"\n",
        "print(d)\n",
        "d[200]=\"Sonu\"\n",
        "print(d)"
      ],
      "metadata": {
        "colab": {
          "base_uri": "https://localhost:8080/"
        },
        "id": "k8uacYI1Mlrs",
        "outputId": "f1c6320d-6171-4916-9f8a-62e878311e42"
      },
      "execution_count": null,
      "outputs": [
        {
          "output_type": "stream",
          "name": "stdout",
          "text": [
            "{100: 'Sanket', 200: 'Himanshu', 300: 'Ashish'}\n",
            "{100: 'Sanket', 200: 'Himanshu', 300: 'Ashish', 400: 'Raj'}\n",
            "{100: 'Sanket', 200: 'Sonu', 300: 'Ashish', 400: 'Raj'}\n"
          ]
        }
      ]
    },
    {
      "cell_type": "code",
      "source": [
        "rec = {}\n",
        "n=int(input(\"Enter number of students: \"))\n",
        "for i in range(0,n):\n",
        "    name=input(\"Enter student name: \")\n",
        "    marks=input(\"Enter % marks of student: \")\n",
        "    rec[name]=marks\n",
        "print(rec)"
      ],
      "metadata": {
        "colab": {
          "base_uri": "https://localhost:8080/"
        },
        "id": "Yb5EpkyEMlyu",
        "outputId": "64a021b1-a3b2-40b4-97be-00f991720b6d"
      },
      "execution_count": null,
      "outputs": [
        {
          "output_type": "stream",
          "name": "stdout",
          "text": [
            "Enter number of students: 3\n",
            "Enter student name: him\n",
            "Enter % marks of student: 90\n",
            "Enter student name: tim\n",
            "Enter % marks of student: 80\n",
            "Enter student name: rim\n",
            "Enter % marks of student: 70\n",
            "{'him': '90', 'tim': '80', 'rim': '70'}\n"
          ]
        }
      ]
    },
    {
      "cell_type": "code",
      "source": [
        "d={100: 'ashish' , 200: 'Prashant', 300: 'sandip'}\n",
        "print(d.keys())\n",
        "for k in d.keys():\n",
        "  print(k)"
      ],
      "metadata": {
        "colab": {
          "base_uri": "https://localhost:8080/"
        },
        "id": "Lk1_IAewMl5U",
        "outputId": "371bfd3d-450c-4075-8491-510e6c95a34d"
      },
      "execution_count": null,
      "outputs": [
        {
          "output_type": "stream",
          "name": "stdout",
          "text": [
            "dict_keys([100, 200, 300])\n",
            "100\n",
            "200\n",
            "300\n"
          ]
        }
      ]
    },
    {
      "cell_type": "code",
      "source": [
        "d={100: 'ashish' ,200: 'Prashant', 300: 'sandip'}\n",
        "for k,v in d.items():\n",
        "  print(k,\" -- >\",v)"
      ],
      "metadata": {
        "colab": {
          "base_uri": "https://localhost:8080/"
        },
        "id": "j2cV8WQ4MmHh",
        "outputId": "8ca28381-4c6e-421b-982e-d67999f2d66b"
      },
      "execution_count": null,
      "outputs": [
        {
          "output_type": "stream",
          "name": "stdout",
          "text": [
            "100  -- > ashish\n",
            "200  -- > Prashant\n",
            "300  -- > sandip\n"
          ]
        }
      ]
    },
    {
      "cell_type": "code",
      "source": [
        "n= int(input(\"Enter the no of elements: \"))\n",
        "arr =[]\n",
        "for element in input(\"Enter the elements separated by space: \").split():\n",
        "  arr.append(int(element))\n",
        "result=[]\n",
        "for i in range(n):\n",
        "  next_larger = -1\n",
        "  for j in range(i+1,n):\n",
        "    if arr[i] < arr[j]:\n",
        "      next_larger = arr[j]\n",
        "      break\n",
        "  result.append(next_larger)\n",
        "print(result)"
      ],
      "metadata": {
        "colab": {
          "base_uri": "https://localhost:8080/"
        },
        "id": "q5Q1hwd9MmRu",
        "outputId": "99e076df-725e-4ee7-d562-4e7b47288c3f"
      },
      "execution_count": null,
      "outputs": [
        {
          "output_type": "stream",
          "name": "stdout",
          "text": [
            "Enter the no of elements: 4\n",
            "Enter the elements separated by space:  1 0 2 5\n",
            "[2, 2, 5, -1]\n"
          ]
        }
      ]
    },
    {
      "cell_type": "code",
      "source": [
        "#to check anagram\n",
        "s1= input(\"Enter the string: \")\n",
        "s2=input(\"Enter the string:\")\n",
        "if sorted(s1)==sorted(s2):\n",
        "  print(\"Anagram\")\n",
        "else:\n",
        "  print(\"Not Anagram\")"
      ],
      "metadata": {
        "id": "4EEv7pqdU0PR"
      },
      "execution_count": null,
      "outputs": []
    },
    {
      "cell_type": "code",
      "source": [],
      "metadata": {
        "id": "bm5PddqpU0Tq"
      },
      "execution_count": null,
      "outputs": []
    },
    {
      "cell_type": "code",
      "source": [],
      "metadata": {
        "id": "nDjrtuc6U0Xg"
      },
      "execution_count": null,
      "outputs": []
    }
  ]
}