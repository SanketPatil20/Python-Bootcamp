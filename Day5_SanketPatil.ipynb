{
  "nbformat": 4,
  "nbformat_minor": 0,
  "metadata": {
    "colab": {
      "provenance": [],
      "authorship_tag": "ABX9TyNR2CEUs1dylPv6q0RajDP8"
    },
    "kernelspec": {
      "name": "python3",
      "display_name": "Python 3"
    },
    "language_info": {
      "name": "python"
    }
  },
  "cells": [
    {
      "cell_type": "code",
      "execution_count": null,
      "metadata": {
        "colab": {
          "base_uri": "https://localhost:8080/"
        },
        "id": "30M25YWjhyAX",
        "outputId": "cbf1e6f7-1471-4537-a28e-cebbe897fb6f"
      },
      "outputs": [
        {
          "output_type": "stream",
          "name": "stdout",
          "text": [
            "100\n",
            "333\n"
          ]
        }
      ],
      "source": [
        "#Local variables\n",
        "class Test:\n",
        "  def func1(self):\n",
        "      a=100\n",
        "      print(a)\n",
        "  def func2(self):\n",
        "      b=222\n",
        "      a=333\n",
        "      print(a)\n",
        "t=Test()\n",
        "t.func1()\n",
        "t.func2()\n"
      ]
    },
    {
      "cell_type": "code",
      "source": [
        "class Student:\n",
        "  def setName(self,name):\n",
        "    self.name=name\n",
        "\n",
        "  def getName(self):\n",
        "    return self.name\n",
        "\n",
        "  def setMarks(self,marks):\n",
        "    self.marks=marks\n",
        "\n",
        "  def getMarks(self):\n",
        "    return self.marks\n",
        "\n",
        "n=int(input(\"Enter no of students: \"))\n",
        "s=Student()\n",
        "for i in range(n):\n",
        "  name=input(\"Enter name: \")\n",
        "  marks=int(input(\"Enter marks:\"))\n",
        "  s.setName(name)\n",
        "  s.setMarks(marks)\n",
        "  print(\"Hi\",s.getName(),\"Your marks are: \",s.getMarks())\n",
        "  print()"
      ],
      "metadata": {
        "colab": {
          "base_uri": "https://localhost:8080/"
        },
        "id": "3kyTC47Lkg6U",
        "outputId": "0b051380-f429-4b7d-bf51-e2c52246dd39"
      },
      "execution_count": null,
      "outputs": [
        {
          "output_type": "stream",
          "name": "stdout",
          "text": [
            "Enter no of students1\n",
            "Enter name: a\n",
            "Enter marks:90\n",
            "Hi a Your marks are:  90\n",
            "\n"
          ]
        }
      ]
    },
    {
      "cell_type": "code",
      "source": [
        "#Passing members of one class to another class\n",
        "class Employee:\n",
        "    def __init__(self,no,name,sal):\n",
        "        self.eno=no\n",
        "        self.ename=name\n",
        "        self.esal=sal\n",
        "    def showDetails(self):\n",
        "        print(\"Employee Number: \",self.eno)\n",
        "        print(\"Employee Name: \",self.ename)\n",
        "        print(\"Employee Salary: \",self.esal)\n",
        "\n",
        "class Test:\n",
        "    def updates(Employee):\n",
        "        Employee.esal=Employee.esal+8000\n",
        "        Employee.showDetails()\n",
        "\n",
        "e = Employee(101,\"Ashish\",20000)\n",
        "e.showDetails()\n",
        "Test.updates(e)"
      ],
      "metadata": {
        "colab": {
          "base_uri": "https://localhost:8080/"
        },
        "id": "uhD0DP4Qkg9x",
        "outputId": "7cc706ef-bc09-4b0f-dc31-07d142b36696"
      },
      "execution_count": null,
      "outputs": [
        {
          "output_type": "stream",
          "name": "stdout",
          "text": [
            "Employee Number:  101\n",
            "Employee Name:  Ashish\n",
            "Employee Salary:  20000\n",
            "Employee Number:  101\n",
            "Employee Name:  Ashish\n",
            "Employee Salary:  28000\n"
          ]
        }
      ]
    },
    {
      "cell_type": "code",
      "source": [
        "class NMIMS:\n",
        "  def __init__(self):\n",
        "    print(\"NMIMS Default constructor\")\n",
        "\n",
        "  class CE:\n",
        "    def __init__(self):\n",
        "      print(\"NMIMS-CE Default constructor\")\n",
        "\n",
        "    def techFest(self):\n",
        "      print(\"techFest\")\n",
        "\n",
        "obj1=NMIMS()\n",
        "obj2=obj1.CE()\n",
        "obj2.techFest()\n",
        "\n",
        "obj3=NMIMS().CE()\n",
        "obj3.techFest()\n",
        "\n",
        "NMIMS().CE().techFest()"
      ],
      "metadata": {
        "colab": {
          "base_uri": "https://localhost:8080/"
        },
        "id": "5K02B9fco575",
        "outputId": "9b2b3950-71dd-4a81-c04a-06bb1259707c"
      },
      "execution_count": null,
      "outputs": [
        {
          "output_type": "stream",
          "name": "stdout",
          "text": [
            "NMIMS Default constructor\n",
            "NMIMS-CE Default constructor\n",
            "techFest\n",
            "NMIMS Default constructor\n",
            "NMIMS-CE Default constructor\n",
            "techFest\n",
            "NMIMS Default constructor\n",
            "NMIMS-CE Default constructor\n",
            "techFest\n"
          ]
        }
      ]
    },
    {
      "cell_type": "code",
      "source": [
        "import gc\n",
        "#Destructor: __del__\n",
        "\n",
        "class Time:\n",
        "    def __init__(self):\n",
        "        print(\"Constructor\")\n",
        "    def __del__(self):\n",
        "        print(\"Destructor\")\n",
        "t=Time()\n",
        "t=None\n",
        "print(\"Application is ended!!!\")"
      ],
      "metadata": {
        "colab": {
          "base_uri": "https://localhost:8080/"
        },
        "id": "EqjRsqdSuBvA",
        "outputId": "e64efba9-3a38-4c72-f7a0-ab0cd452ce6e"
      },
      "execution_count": null,
      "outputs": [
        {
          "output_type": "stream",
          "name": "stdout",
          "text": [
            "Constructor\n",
            "Destructor\n",
            "Application is ended!!!\n"
          ]
        }
      ]
    },
    {
      "cell_type": "code",
      "source": [
        "#Constructor overloading\n",
        "\n",
        "class Test:\n",
        "  def __init__(self):\n",
        "      print(\"No argument method\")\n",
        "  def __init__(self,a):\n",
        "      print(\"One argument method\")\n",
        "  def __init__(self,a,b):\n",
        "      print(\"Two argument method\")\n",
        "\n",
        "# t=Test()\n",
        "# t=Test(10)\n",
        "t=Test(10,20)"
      ],
      "metadata": {
        "colab": {
          "base_uri": "https://localhost:8080/"
        },
        "id": "-p4VpFpUuBzo",
        "outputId": "cd527ef1-d4a6-4518-8804-876f2ba2eb29"
      },
      "execution_count": null,
      "outputs": [
        {
          "output_type": "stream",
          "name": "stdout",
          "text": [
            "Two argument method\n"
          ]
        }
      ]
    },
    {
      "cell_type": "code",
      "source": [
        "class A:\n",
        "  def showA(self):\n",
        "    print(\"I am in class A\")\n",
        "\n",
        "class B(A):\n",
        "  def showB(self):\n",
        "    print(\"I am in class B\")\n",
        "\n",
        "class C(B):\n",
        "  def showC(self):\n",
        "    print(\"I am in class C\")\n",
        "\n",
        "obj1 = C()\n",
        "obj1.showA()\n",
        "obj1.showB()\n",
        "obj1.showC()"
      ],
      "metadata": {
        "colab": {
          "base_uri": "https://localhost:8080/"
        },
        "id": "31emdApJv3zG",
        "outputId": "400d2f26-3eb8-4eaa-e281-0c319abd6aec"
      },
      "execution_count": null,
      "outputs": [
        {
          "output_type": "stream",
          "name": "stdout",
          "text": [
            "I am in class A\n",
            "I am in class B\n",
            "I am in class C\n"
          ]
        }
      ]
    },
    {
      "cell_type": "code",
      "source": [
        "class Parent:\n",
        "  def __init__(self):\n",
        "    print(\"Cash, gold\")\n",
        "  def bike(self):\n",
        "    print(\"Splender+\")\n",
        "class Child(Parent):\n",
        "  def bike(self):\n",
        "    print(\"HB\")\n",
        "obj=Child()\n",
        "obj.bike()"
      ],
      "metadata": {
        "colab": {
          "base_uri": "https://localhost:8080/"
        },
        "id": "BE82aWjiv37F",
        "outputId": "b189a3d0-d6dd-4737-bc58-f5efb647caef"
      },
      "execution_count": null,
      "outputs": [
        {
          "output_type": "stream",
          "name": "stdout",
          "text": [
            "Cash, gold\n",
            "HB\n"
          ]
        }
      ]
    },
    {
      "cell_type": "code",
      "source": [
        "from abc import ABC, abstractmethod\n",
        "  class Test(ABC) :\n",
        "    @abstractmethod\n",
        "    def m1(self):\n",
        "      pass\n",
        "\n",
        "    def m2(self): 1\n",
        "      print(\"m2 Method implementation\")\n",
        "    class MyPython(Test):\n",
        "        @abstractmethod\n",
        "        def m1(self):\n",
        "          pass\n",
        "\n",
        "    class Child(MyPython):\n",
        "        def m1(self):\n",
        "          print(\"m1 Method implementation\")\n",
        "\n",
        "  m=Child()\n",
        "  m.m1()\n",
        "  m.m2()"
      ],
      "metadata": {
        "colab": {
          "base_uri": "https://localhost:8080/",
          "height": 106
        },
        "id": "9Ktla_1HkhI7",
        "outputId": "893acc1a-caf3-4050-8c2a-158dc0b89031"
      },
      "execution_count": null,
      "outputs": [
        {
          "output_type": "error",
          "ename": "IndentationError",
          "evalue": "unexpected indent (<ipython-input-24-4325263d6679>, line 2)",
          "traceback": [
            "\u001b[0;36m  File \u001b[0;32m\"<ipython-input-24-4325263d6679>\"\u001b[0;36m, line \u001b[0;32m2\u001b[0m\n\u001b[0;31m    class Test(ABC) :\u001b[0m\n\u001b[0m    ^\u001b[0m\n\u001b[0;31mIndentationError\u001b[0m\u001b[0;31m:\u001b[0m unexpected indent\n"
          ]
        }
      ]
    },
    {
      "cell_type": "code",
      "source": [
        "class Test1:\n",
        "  def __init__(self):\n",
        "    self.a=100\n",
        "    self ._a=200\n",
        "    self .__a=300\n",
        "\n",
        "def show1(self):\n",
        "print(self.a)\n",
        "print(self ._ a)\n",
        "print(self ._ a)\n",
        "\n",
        "class Test2(Test1):\n",
        "def show2(self):\n",
        "print(self.a)\n",
        "print(self ._ a)\n",
        "print(self ._ Test1_a)"
      ],
      "metadata": {
        "id": "eOPBafqe8x3r"
      },
      "execution_count": null,
      "outputs": []
    },
    {
      "cell_type": "code",
      "source": [
        "# Inheritence implementation\n",
        "class Employee:\n",
        "    def work(self):\n",
        "        return \"Employee is working\"\n",
        "\n",
        "    def getSalary(self):\n",
        "        return self.salary\n",
        "\n",
        "class HRManager(Employee):\n",
        "    def __init__(self, salary):\n",
        "        self.salary = salary\n",
        "\n",
        "    def work(self):\n",
        "        return \"HR Manager is managing employees\"\n",
        "\n",
        "    def addEmployee(self):\n",
        "        return \"New employee added\"\n",
        "\n",
        "    def showEmployee(self):\n",
        "        return \"Showing employee details\"\n",
        "hr = HRManager(50000)\n",
        "print(hr.work())\n",
        "print(hr.getSalary())\n",
        "print(hr.addEmployee())\n",
        "print(hr.showEmployee())"
      ],
      "metadata": {
        "colab": {
          "base_uri": "https://localhost:8080/"
        },
        "id": "LcZO28jl8x6c",
        "outputId": "f81547bc-1cb6-43b3-a356-f13c999ed552"
      },
      "execution_count": null,
      "outputs": [
        {
          "output_type": "stream",
          "name": "stdout",
          "text": [
            "HR Manager is managing employees\n",
            "50000\n",
            "New employee added\n",
            "Showing employee details\n"
          ]
        }
      ]
    },
    {
      "cell_type": "code",
      "source": [
        "# Product of numbers in array\n",
        "a=[1,2,3,4]\n",
        "arr=[]\n",
        "for i in range (len(a)):\n",
        "  b=1\n",
        "  for j in range (len(a)):\n",
        "        if i!=j:\n",
        "          b=b*a[j]\n",
        "  arr.append(b)\n",
        "print(arr)"
      ],
      "metadata": {
        "colab": {
          "base_uri": "https://localhost:8080/"
        },
        "id": "O0T9ftPS8x-E",
        "outputId": "544a5514-4ba1-4705-8cdb-2974afade4de"
      },
      "execution_count": null,
      "outputs": [
        {
          "output_type": "stream",
          "name": "stdout",
          "text": [
            "[24, 12, 8, 6]\n"
          ]
        }
      ]
    },
    {
      "cell_type": "code",
      "source": [
        "from abc import ABC, abstractmethod\n",
        "\n",
        "class BankAccount(ABC):\n",
        "    def __init__(self):\n",
        "        self.accno = \"\"\n",
        "        self.cname = \"\"\n",
        "        self.address = \"\"\n",
        "        self.balance = 0.0\n",
        "\n",
        "    @abstractmethod\n",
        "    def deposit(self, amount):\n",
        "        pass\n",
        "\n",
        "    @abstractmethod\n",
        "    def withdraw(self, amount):\n",
        "        pass\n",
        "\n",
        "    def inputCustData(self):\n",
        "        self.accno = input(\"Enter Account Number: \")\n",
        "        self.cname = input(\"Enter Customer Name: \")\n",
        "        self.address = input(\"Enter Address: \")\n",
        "        self.balance = float(input(\"Enter Initial Balance: \"))\n",
        "\n",
        "    def showCustData(self):\n",
        "        print(\"\\n--- Customer Data ---\")\n",
        "        print(\"Account Number: \",self.accno)\n",
        "        print(\"Customer Name: \",self.cname)\n",
        "        print(\"Address: \",self.address)\n",
        "        print(\"Balance: \",self.balance)\n",
        "\n",
        "\n",
        "class SavingsAccount(BankAccount):\n",
        "    def deposit(self, amount=None):\n",
        "        if amount is None:\n",
        "            amount = float(input(\"Enter amount to deposit: \"))\n",
        "        self.balance += amount\n",
        "        print(\"Amount deposited: \",amount)\n",
        "        print(\"New Balance: \",self.balance)\n",
        "\n",
        "    def withdraw(self, amount=None):\n",
        "        if amount is None:\n",
        "            amount = float(input(\"Enter amount to withdraw: \"))\n",
        "        if self.balance >= amount:\n",
        "            self.balance -= amount\n",
        "            print(\"Amount withdrawn: \",amount)\n",
        "            print(\"New Balance: \",self.balance)\n",
        "        else:\n",
        "            print(\"Insufficient balance\")\n",
        "\n",
        "\n",
        "class CurrentAccount(BankAccount):\n",
        "    def deposit(self, amount=None):\n",
        "        if amount is None:\n",
        "            amount = float(input(\"Enter amount to deposit: \"))\n",
        "        self.balance += amount\n",
        "        print(\"Amount deposited: \",amount)\n",
        "        print(\"New Balance: \",self.balance)\n",
        "\n",
        "    def withdraw(self, amount=None):\n",
        "        if amount is None:\n",
        "            amount = float(input(\"Enter amount to withdraw: \"))\n",
        "        if self.balance >= amount:\n",
        "            self.balance -= amount\n",
        "            print(\"Amount withdrawn: \",amount)\n",
        "            print(\"New Balance: \",self.balance)\n",
        "        else:\n",
        "            print(\"Insufficient balance\")\n",
        "\n",
        "def main():\n",
        "    print(\"Choose account type:\")\n",
        "    print(\"1. Savings Account\")\n",
        "    print(\"2. Current Account\")\n",
        "    choice = int(input(\"Enter choice (1 or 2): \"))\n",
        "\n",
        "    if choice == 1:\n",
        "        account = SavingsAccount()\n",
        "    elif choice == 2:\n",
        "        account = CurrentAccount()\n",
        "    else:\n",
        "        print(\"Invalid choice\")\n",
        "        return\n",
        "\n",
        "    account.inputCustData()\n",
        "    account.showCustData()\n",
        "\n",
        "    while True:\n",
        "        print(\"\\nChoose an operation:\")\n",
        "        print(\"1. Deposit\")\n",
        "        print(\"2. Withdraw\")\n",
        "        print(\"3. Show Customer Data\")\n",
        "        print(\"4. Exit\")\n",
        "        operation = int(input(\"Enter choice (1-4): \"))\n",
        "\n",
        "        if operation == 1:\n",
        "            account.deposit()\n",
        "        elif operation == 2:\n",
        "            account.withdraw()\n",
        "        elif operation == 3:\n",
        "            account.showCustData()\n",
        "        elif operation == 4:\n",
        "            print(\"Exiting...\")\n",
        "            break\n",
        "        else:\n",
        "            print(\"Invalid operation choice\")\n",
        "\n",
        "main()"
      ],
      "metadata": {
        "colab": {
          "base_uri": "https://localhost:8080/",
          "height": 738
        },
        "id": "qeM1ICcwXZsE",
        "outputId": "3ce359b3-7621-4966-c316-1c6d808bfaa3"
      },
      "execution_count": null,
      "outputs": [
        {
          "metadata": {
            "tags": null
          },
          "name": "stdout",
          "output_type": "stream",
          "text": [
            "Choose account type:\n",
            "1. Savings Account\n",
            "2. Current Account\n",
            "\n",
            "--- Customer Data ---\n",
            "Account Number:  13579\n",
            "Customer Name:  Sanket\n",
            "Address:  12, ram nagar\n",
            "Balance:  100000.0\n",
            "\n",
            "Choose an operation:\n",
            "1. Deposit\n",
            "2. Withdraw\n",
            "3. Show Customer Data\n",
            "4. Exit\n",
            "Amount deposited:  25.0\n",
            "New Balance:  100025.0\n",
            "\n",
            "Choose an operation:\n",
            "1. Deposit\n",
            "2. Withdraw\n",
            "3. Show Customer Data\n",
            "4. Exit\n"
          ]
        },
        {
          "output_type": "error",
          "ename": "KeyboardInterrupt",
          "evalue": "Interrupted by user",
          "traceback": [
            "\u001b[0;31m---------------------------------------------------------------------------\u001b[0m",
            "\u001b[0;31mKeyboardInterrupt\u001b[0m                         Traceback (most recent call last)",
            "\u001b[0;32m<ipython-input-18-8e2456873803>\u001b[0m in \u001b[0;36m<cell line: 106>\u001b[0;34m()\u001b[0m\n\u001b[1;32m    104\u001b[0m             \u001b[0mprint\u001b[0m\u001b[0;34m(\u001b[0m\u001b[0;34m\"Invalid operation choice\"\u001b[0m\u001b[0;34m)\u001b[0m\u001b[0;34m\u001b[0m\u001b[0;34m\u001b[0m\u001b[0m\n\u001b[1;32m    105\u001b[0m \u001b[0;34m\u001b[0m\u001b[0m\n\u001b[0;32m--> 106\u001b[0;31m \u001b[0mmain\u001b[0m\u001b[0;34m(\u001b[0m\u001b[0;34m)\u001b[0m\u001b[0;34m\u001b[0m\u001b[0;34m\u001b[0m\u001b[0m\n\u001b[0m",
            "\u001b[0;32m<ipython-input-18-8e2456873803>\u001b[0m in \u001b[0;36mmain\u001b[0;34m()\u001b[0m\n\u001b[1;32m     90\u001b[0m         \u001b[0mprint\u001b[0m\u001b[0;34m(\u001b[0m\u001b[0;34m\"3. Show Customer Data\"\u001b[0m\u001b[0;34m)\u001b[0m\u001b[0;34m\u001b[0m\u001b[0;34m\u001b[0m\u001b[0m\n\u001b[1;32m     91\u001b[0m         \u001b[0mprint\u001b[0m\u001b[0;34m(\u001b[0m\u001b[0;34m\"4. Exit\"\u001b[0m\u001b[0;34m)\u001b[0m\u001b[0;34m\u001b[0m\u001b[0;34m\u001b[0m\u001b[0m\n\u001b[0;32m---> 92\u001b[0;31m         \u001b[0moperation\u001b[0m \u001b[0;34m=\u001b[0m \u001b[0mint\u001b[0m\u001b[0;34m(\u001b[0m\u001b[0minput\u001b[0m\u001b[0;34m(\u001b[0m\u001b[0;34m\"Enter choice (1-4): \"\u001b[0m\u001b[0;34m)\u001b[0m\u001b[0;34m)\u001b[0m\u001b[0;34m\u001b[0m\u001b[0;34m\u001b[0m\u001b[0m\n\u001b[0m\u001b[1;32m     93\u001b[0m \u001b[0;34m\u001b[0m\u001b[0m\n\u001b[1;32m     94\u001b[0m         \u001b[0;32mif\u001b[0m \u001b[0moperation\u001b[0m \u001b[0;34m==\u001b[0m \u001b[0;36m1\u001b[0m\u001b[0;34m:\u001b[0m\u001b[0;34m\u001b[0m\u001b[0;34m\u001b[0m\u001b[0m\n",
            "\u001b[0;32m/usr/local/lib/python3.10/dist-packages/ipykernel/kernelbase.py\u001b[0m in \u001b[0;36mraw_input\u001b[0;34m(self, prompt)\u001b[0m\n\u001b[1;32m    849\u001b[0m                 \u001b[0;34m\"raw_input was called, but this frontend does not support input requests.\"\u001b[0m\u001b[0;34m\u001b[0m\u001b[0;34m\u001b[0m\u001b[0m\n\u001b[1;32m    850\u001b[0m             )\n\u001b[0;32m--> 851\u001b[0;31m         return self._input_request(str(prompt),\n\u001b[0m\u001b[1;32m    852\u001b[0m             \u001b[0mself\u001b[0m\u001b[0;34m.\u001b[0m\u001b[0m_parent_ident\u001b[0m\u001b[0;34m,\u001b[0m\u001b[0;34m\u001b[0m\u001b[0;34m\u001b[0m\u001b[0m\n\u001b[1;32m    853\u001b[0m             \u001b[0mself\u001b[0m\u001b[0;34m.\u001b[0m\u001b[0m_parent_header\u001b[0m\u001b[0;34m,\u001b[0m\u001b[0;34m\u001b[0m\u001b[0;34m\u001b[0m\u001b[0m\n",
            "\u001b[0;32m/usr/local/lib/python3.10/dist-packages/ipykernel/kernelbase.py\u001b[0m in \u001b[0;36m_input_request\u001b[0;34m(self, prompt, ident, parent, password)\u001b[0m\n\u001b[1;32m    893\u001b[0m             \u001b[0;32mexcept\u001b[0m \u001b[0mKeyboardInterrupt\u001b[0m\u001b[0;34m:\u001b[0m\u001b[0;34m\u001b[0m\u001b[0;34m\u001b[0m\u001b[0m\n\u001b[1;32m    894\u001b[0m                 \u001b[0;31m# re-raise KeyboardInterrupt, to truncate traceback\u001b[0m\u001b[0;34m\u001b[0m\u001b[0;34m\u001b[0m\u001b[0m\n\u001b[0;32m--> 895\u001b[0;31m                 \u001b[0;32mraise\u001b[0m \u001b[0mKeyboardInterrupt\u001b[0m\u001b[0;34m(\u001b[0m\u001b[0;34m\"Interrupted by user\"\u001b[0m\u001b[0;34m)\u001b[0m \u001b[0;32mfrom\u001b[0m \u001b[0;32mNone\u001b[0m\u001b[0;34m\u001b[0m\u001b[0;34m\u001b[0m\u001b[0m\n\u001b[0m\u001b[1;32m    896\u001b[0m             \u001b[0;32mexcept\u001b[0m \u001b[0mException\u001b[0m \u001b[0;32mas\u001b[0m \u001b[0me\u001b[0m\u001b[0;34m:\u001b[0m\u001b[0;34m\u001b[0m\u001b[0;34m\u001b[0m\u001b[0m\n\u001b[1;32m    897\u001b[0m                 \u001b[0mself\u001b[0m\u001b[0;34m.\u001b[0m\u001b[0mlog\u001b[0m\u001b[0;34m.\u001b[0m\u001b[0mwarning\u001b[0m\u001b[0;34m(\u001b[0m\u001b[0;34m\"Invalid Message:\"\u001b[0m\u001b[0;34m,\u001b[0m \u001b[0mexc_info\u001b[0m\u001b[0;34m=\u001b[0m\u001b[0;32mTrue\u001b[0m\u001b[0;34m)\u001b[0m\u001b[0;34m\u001b[0m\u001b[0;34m\u001b[0m\u001b[0m\n",
            "\u001b[0;31mKeyboardInterrupt\u001b[0m: Interrupted by user"
          ]
        }
      ]
    },
    {
      "cell_type": "code",
      "source": [
        "n = [1, 0, 0, 1, 1, 0, 0, 1, 0, 1, 1, 1, 0, 1, 1, 0]\n",
        "count = 0\n",
        "max_count = 0\n",
        "\n",
        "for i in n:\n",
        "    if i == 1:\n",
        "        count += 1\n",
        "        if count > max_count:\n",
        "            max_count = count\n",
        "    else:\n",
        "        count = 0\n",
        "\n",
        "print(max_count)\n"
      ],
      "metadata": {
        "colab": {
          "base_uri": "https://localhost:8080/"
        },
        "id": "7KiXpaVVokH9",
        "outputId": "006e3e9b-536e-4674-dd52-f0b9014e76f3"
      },
      "execution_count": null,
      "outputs": [
        {
          "output_type": "stream",
          "name": "stdout",
          "text": [
            "3\n"
          ]
        }
      ]
    },
    {
      "cell_type": "code",
      "source": [
        "n = [1,3,5,7,9,2,4,6,8,0]\n",
        "parted=[]\n",
        "part = int(input(\"Enter the part: \"))\n",
        "for i in range (len(n)):\n",
        "  parted.append(n[i])\n",
        "  if len(parted)==part:\n",
        "    print(parted)\n",
        "    parted=[]\n",
        "print(parted)"
      ],
      "metadata": {
        "colab": {
          "base_uri": "https://localhost:8080/"
        },
        "id": "JbFSIRxj2hcU",
        "outputId": "378244e9-2680-456f-b3ff-76328fcd06f4"
      },
      "execution_count": null,
      "outputs": [
        {
          "output_type": "stream",
          "name": "stdout",
          "text": [
            "Enter the part: 3\n",
            "[1, 3, 5]\n",
            "[7, 9, 2]\n",
            "[4, 6, 8]\n",
            "[0]\n"
          ]
        }
      ]
    },
    {
      "cell_type": "code",
      "source": [
        "def is_automorphic(num):\n",
        "    square = num * num\n",
        "    temp = num\n",
        "\n",
        "    while temp > 0:\n",
        "        if square % 10 != temp % 10:\n",
        "            return False\n",
        "        square //= 10\n",
        "        temp //= 10\n",
        "\n",
        "    return True\n",
        "num = int(input(\"Enter the number: \"))\n",
        "is_automorphic(num)\n",
        "\n",
        "\n",
        "\n"
      ],
      "metadata": {
        "colab": {
          "base_uri": "https://localhost:8080/"
        },
        "id": "C1ebBxPM2hkT",
        "outputId": "69f34aae-0a56-4edd-86ae-1a394497c90d"
      },
      "execution_count": null,
      "outputs": [
        {
          "name": "stdout",
          "output_type": "stream",
          "text": [
            "Enter the number: 25\n"
          ]
        },
        {
          "output_type": "execute_result",
          "data": {
            "text/plain": [
              "True"
            ]
          },
          "metadata": {},
          "execution_count": 35
        }
      ]
    }
  ]
}