{
  "nbformat": 4,
  "nbformat_minor": 0,
  "metadata": {
    "colab": {
      "provenance": [],
      "authorship_tag": "ABX9TyPXNz7+D+gVM7bFZhyv0b0g"
    },
    "kernelspec": {
      "name": "python3",
      "display_name": "Python 3"
    },
    "language_info": {
      "name": "python"
    }
  },
  "cells": [
    {
      "cell_type": "code",
      "execution_count": null,
      "metadata": {
        "colab": {
          "base_uri": "https://localhost:8080/"
        },
        "id": "CKU3RwLYk7fd",
        "outputId": "c885b400-2468-4979-ff0d-9d8713ef5925"
      },
      "outputs": [
        {
          "output_type": "stream",
          "name": "stdout",
          "text": [
            "HR Manager is managing employees\n",
            "50000\n",
            "New employee added\n",
            "Showing employee details\n"
          ]
        }
      ],
      "source": [
        "# Inheritence implementation\n",
        "class Employee:\n",
        "    def work(self):\n",
        "        return \"Employee is working\"\n",
        "\n",
        "    def getSalary(self):\n",
        "        return self.salary\n",
        "\n",
        "class HRManager(Employee):\n",
        "    def __init__(self, salary):\n",
        "        self.salary = salary\n",
        "\n",
        "    def work(self):\n",
        "        return \"HR Manager is managing employees\"\n",
        "\n",
        "    def addEmployee(self):\n",
        "        return \"New employee added\"\n",
        "\n",
        "    def showEmployee(self):\n",
        "        return \"Showing employee details\"\n",
        "hr = HRManager(50000)\n",
        "print(hr.work())\n",
        "print(hr.getSalary())\n",
        "print(hr.addEmployee())\n",
        "print(hr.showEmployee())"
      ]
    }
  ]
}